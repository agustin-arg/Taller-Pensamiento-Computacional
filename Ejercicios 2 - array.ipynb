{
  "cells": [
    {
      "cell_type": "markdown",
      "metadata": {
        "id": "Xmh4DZAeoWeG"
      },
      "source": [
        "# Ejercicio 1\n",
        "\n",
        "La asignatura Álgebra está organizada en 5 comisiones de 24 alumnos cada una. Se ingresa por cada alumno la calificación obtenida en una evaluación parcial y el número de comisión al que pertenece. Estos pares de datos llegan sin orden alguno. Informe el promedio de cada comisión."
      ]
    },
    {
      "cell_type": "code",
      "execution_count": 9,
      "metadata": {},
      "outputs": [
        {
          "name": "stdout",
          "output_type": "stream",
          "text": [
            "Promedio Comisión 1: 4.0\n",
            "Promedio Comisión 2: 2.0\n"
          ]
        }
      ],
      "source": [
        "Comisiones = 2\n",
        "Alumnos = 4\n",
        "for ContadorComision in range(Comisiones):\n",
        "    Promedio = 0\n",
        "    for ContadorAlumno in range(Alumnos):\n",
        "        Nota1 = int(input(f\"ingrese nota de la comision {ContadorComision+1}\"))\n",
        "        Promedio = Promedio + Nota1 \n",
        "\n",
        "    Promedio = Promedio / Alumnos\n",
        "    print(f\"Promedio Comisión {ContadorComision + 1}: {Promedio}\")\n",
        "    "
      ]
    },
    {
      "cell_type": "markdown",
      "metadata": {
        "id": "JEGEXIQjoh-1"
      },
      "source": [
        "# Ejercicio 2\n",
        "\n",
        "Se desea realizar un algoritmo que permita controlar las reservas de plazas de un vuelo de acuerdo con las siguientes normas de la compañía aérea:  \n",
        "  - Número de plazas del avión: 300.  \n",
        "  - Plazas numeradas de 1 a 100: fumadores.  \n",
        "  - Plazas numeradas de 101 a 300: no fumadores.  \n",
        "\n",
        "Se debe realizar la reserva a petición del pasajero y cerrar la reserva cuando no haya plazas libres o se indique “fin”."
      ]
    },
    {
      "cell_type": "code",
      "execution_count": 1,
      "metadata": {},
      "outputs": [
        {
          "name": "stdout",
          "output_type": "stream",
          "text": [
            "Se le ha asignado la plaza\n",
            "La plaza seleccionada se encuentra ocupada, elija otra\n",
            "La plaza seleccionada se encuentra ocupada, elija otra\n",
            "Se le ha asignado la plaza\n"
          ]
        }
      ],
      "source": [
        "avion = [0] * 300\n",
        "plazas_libres = 300\n",
        "plazas_fumadores = 100\n",
        "plazas_no_fumadores = 200\n",
        "Fin = \"no\"\n",
        "\n",
        "while Fin != \"fin\":\n",
        "  fumador = input(\"¿Fuma? (s/n): \")\n",
        "\n",
        "  if fumador == \"s\":\n",
        "    Ubicado = 0\n",
        "    while Ubicado == 0:\n",
        "      Ubicación = int(input(\"Elija una plaza del 1 al 100\"))\n",
        "      if Ubicación <= 100:\n",
        "        if avion[Ubicación-1]==0:\n",
        "          avion[Ubicación-1] += 1\n",
        "          Ubicado += 1\n",
        "          print(\"Se le ha asignado la plaza\")\n",
        "        else:\n",
        "          print(\"La plaza seleccionada se encuentra ocupada, elija otra\")\n",
        "  if fumador == \"n\":\n",
        "    Ubicado = 0\n",
        "    while Ubicado == 0:\n",
        "      Ubicación = int(input(\"Elija una plaza del 101 al 300\"))\n",
        "      if Ubicación <= 300 and Ubicación > 100:\n",
        "        if avion[Ubicación-1]==0:\n",
        "          avion[Ubicación-1] += 1\n",
        "          Ubicado += 1\n",
        "          print(\"Se le ha asignado la plaza\")\n",
        "        else:\n",
        "          print(\"La plaza seleccionada se encuentra ocupada, elija otra\")\n",
        "  Fin = input(\"Para finalizar escriba \"\"fin\"\". De lo contrario escriba \"\"continuar\"\"\")\n",
        "  \n",
        "  "
      ]
    },
    {
      "cell_type": "markdown",
      "metadata": {
        "id": "r2LfgOfxoxks"
      },
      "source": [
        "# Ejercicio 3\n",
        "\n",
        "Desarrollar un algoritmo que ayude a un hotel a gestionar las reservas para una semana. Solicitar al usuario el número total de habitaciones del hotel y luego, para cada día de la semana, el número de habitaciones reservadas. El programa debe mostrar cuántas habitaciones quedan disponibles cada día. Asegurarse de que los datos de entrada se ajusten a la capacidad del hotel."
      ]
    },
    {
      "cell_type": "code",
      "execution_count": 9,
      "metadata": {},
      "outputs": [
        {
          "name": "stdout",
          "output_type": "stream",
          "text": [
            " En el Día 1 hay 8 habitaciones libres\n",
            " En el Día 2 hay 7 habitaciones libres\n",
            " En el Día 3 hay 6 habitaciones libres\n",
            " En el Día 4 hay 5 habitaciones libres\n",
            " En el Día 5 hay 4 habitaciones libres\n",
            " En el Día 6 hay 3 habitaciones libres\n",
            " En el Día 7 hay 2 habitaciones libres\n"
          ]
        }
      ],
      "source": [
        "CantHabitaciones = int(input(\"Ingrese la cantidad de habitaciones disponible para la semana\"))\n",
        "Dias = 7\n",
        "ArrayDias = [0]*7\n",
        "Contador1=0\n",
        "for Contador1 in range(Dias):\n",
        "    ArrayDias[Contador1-1]= int(input(f\"Ingrese la cantidad de habitaciones disponible en el dia {Contador1+1}\"))\n",
        "for i in range(Dias):\n",
        "    print(f\" En el Día {i+1} hay {CantHabitaciones - ArrayDias[i-1]} habitaciones libres\")"
      ]
    },
    {
      "cell_type": "markdown",
      "metadata": {
        "id": "yZWWumFco7WO"
      },
      "source": [
        "# Ejercicio 4\n",
        "\n",
        "Escribir un algoritmo que permita calcular el cuadrado de los 100 primeros números enteros y a continuación escribir una tabla que contenga dichos cuadrados."
      ]
    },
    {
      "cell_type": "code",
      "execution_count": 16,
      "metadata": {},
      "outputs": [
        {
          "name": "stdout",
          "output_type": "stream",
          "text": [
            "0^2=0\n",
            "1^2=1\n",
            "2^2=4\n",
            "3^2=9\n",
            "4^2=16\n",
            "5^2=25\n",
            "6^2=36\n",
            "7^2=49\n",
            "8^2=64\n",
            "9^2=81\n",
            "10^2=100\n",
            "11^2=121\n",
            "12^2=144\n",
            "13^2=169\n",
            "14^2=196\n",
            "15^2=225\n",
            "16^2=256\n",
            "17^2=289\n",
            "18^2=324\n",
            "19^2=361\n",
            "20^2=400\n",
            "21^2=441\n",
            "22^2=484\n",
            "23^2=529\n",
            "24^2=576\n",
            "25^2=625\n",
            "26^2=676\n",
            "27^2=729\n",
            "28^2=784\n",
            "29^2=841\n",
            "30^2=900\n",
            "31^2=961\n",
            "32^2=1024\n",
            "33^2=1089\n",
            "34^2=1156\n",
            "35^2=1225\n",
            "36^2=1296\n",
            "37^2=1369\n",
            "38^2=1444\n",
            "39^2=1521\n",
            "40^2=1600\n",
            "41^2=1681\n",
            "42^2=1764\n",
            "43^2=1849\n",
            "44^2=1936\n",
            "45^2=2025\n",
            "46^2=2116\n",
            "47^2=2209\n",
            "48^2=2304\n",
            "49^2=2401\n",
            "50^2=2500\n",
            "51^2=2601\n",
            "52^2=2704\n",
            "53^2=2809\n",
            "54^2=2916\n",
            "55^2=3025\n",
            "56^2=3136\n",
            "57^2=3249\n",
            "58^2=3364\n",
            "59^2=3481\n",
            "60^2=3600\n",
            "61^2=3721\n",
            "62^2=3844\n",
            "63^2=3969\n",
            "64^2=4096\n",
            "65^2=4225\n",
            "66^2=4356\n",
            "67^2=4489\n",
            "68^2=4624\n",
            "69^2=4761\n",
            "70^2=4900\n",
            "71^2=5041\n",
            "72^2=5184\n",
            "73^2=5329\n",
            "74^2=5476\n",
            "75^2=5625\n",
            "76^2=5776\n",
            "77^2=5929\n",
            "78^2=6084\n",
            "79^2=6241\n",
            "80^2=6400\n",
            "81^2=6561\n",
            "82^2=6724\n",
            "83^2=6889\n",
            "84^2=7056\n",
            "85^2=7225\n",
            "86^2=7396\n",
            "87^2=7569\n",
            "88^2=7744\n",
            "89^2=7921\n",
            "90^2=8100\n",
            "91^2=8281\n",
            "92^2=8464\n",
            "93^2=8649\n",
            "94^2=8836\n",
            "95^2=9025\n",
            "96^2=9216\n",
            "97^2=9409\n",
            "98^2=9604\n",
            "99^2=9801\n"
          ]
        }
      ],
      "source": [
        "NumerosEnteros=100\n",
        "for i in range(NumerosEnteros):\n",
        "    print(f\"{i}^2={i**2}\")"
      ]
    },
    {
      "cell_type": "markdown",
      "metadata": {
        "id": "WhUtMOrfpD-W"
      },
      "source": [
        "# Ejercicio 5\n",
        "\n",
        "Se dispone de N temperaturas almacenadas en un array. Se desea calcular su media y obtener el número de temperaturas mayores o iguales que la media."
      ]
    },
    {
      "cell_type": "code",
      "execution_count": 39,
      "metadata": {},
      "outputs": [
        {
          "name": "stdout",
          "output_type": "stream",
          "text": [
            " Media: 3.0, Cantidad de Media: 1 y Temperatura mayor: 3\n"
          ]
        }
      ],
      "source": [
        "CantTemp=int(input(\"Ingrese la cantidad de temperaturas registradas\"))\n",
        "Temp= [0.0 for _ in range(CantTemp)]\n",
        "# opcion 2 para armar una array [0.0]*CantTemp\n",
        "Media= 0 \n",
        "TempMayor = 0\n",
        "CantidadMedia = 0\n",
        "\n",
        "for i in range(CantTemp):\n",
        "    Temp[i-1] = int(input(f\"Ingrese la temperatura N {i+1} \"))\n",
        "\n",
        "\n",
        "if CantTemp / 2 == 0:\n",
        "    Media = Temp [CantTemp/2]\n",
        "elif CantTemp == 1:\n",
        "    Media = 1\n",
        "else:\n",
        "    media1 = (CantTemp // 2) + 1\n",
        "    Media2 = Temp [CantTemp//2 - 1]\n",
        "    Media = media1 + Media2 / 2\n",
        "\n",
        "for i in range(CantTemp):\n",
        "    if Temp[i-1] > TempMayor:\n",
        "       TempMayor = Temp[i-1] \n",
        "\n",
        "for i in range(CantTemp):\n",
        "    if Temp[i-1] == Media:\n",
        "       CantidadMedia += 1\n",
        "print (f\" Media: {Media}, Cantidad de Media: {CantidadMedia} y Temperatura mayor: {TempMayor}\")\n",
        "\n",
        "\n",
        "\n"
      ]
    },
    {
      "cell_type": "markdown",
      "metadata": {
        "id": "zt7a5f7UpOFI"
      },
      "source": [
        "# Ejercicio 6\n",
        "\n",
        "Escribir un algoritmo que solicite al usuario las temperaturas máximas registradas cada día durante una semana. Se debe calcular y mostrar la temperatura promedio de la semana, la temperatura más alta y la más baja. Asegurarse de que las temperaturas se ingresen como valores reales."
      ]
    },
    {
      "cell_type": "markdown",
      "metadata": {
        "id": "7IWVh4UApWoa"
      },
      "source": [
        "# Ejercicio 7\n",
        "\n",
        "Un pequeño negocio desea analizar las ventas de los últimos seis meses. El usuario debe ingresar las ventas totales de cada mes, y el programa debe identificar y mostrar el mes con las mayores y menores ventas. Además, debe calcular el promedio de ventas mensuales."
      ]
    },
    {
      "cell_type": "markdown",
      "metadata": {
        "id": "jezCog_OqmON"
      },
      "source": [
        "# Ejercicio 8\n",
        "Una empresa tiene diez almacenes y necesita crear un algoritmo que lea las ventas mensuales de los diez almacenes, calcular la media de ventas y obtener un listado de los almacenes cuyas ventas mensuales son superiores a la media."
      ]
    },
    {
      "cell_type": "markdown",
      "metadata": {
        "id": "LLLM18QIraRt"
      },
      "source": [
        "# Ejercicio 9\n",
        "\n",
        "Crear un algoritmo para analizar una encuesta de satisfacción de clientes. Solicitar al usuario la cantidad de clientes encuestados y sus calificaciones (1 a 5 estrellas). El programa debe mostrar la calificación promedio y la cantidad de calificaciones de cada tipo."
      ]
    },
    {
      "cell_type": "markdown",
      "metadata": {
        "id": "QPe1QQcYrh8j"
      },
      "source": [
        "# Ejercicio 10\n",
        "\n",
        "Se dispone de una lista de N nombres de alumnos. Escribir un algoritmo que solicite el nombre de un alumno y busque en el array si el nombre está."
      ]
    },
    {
      "cell_type": "markdown",
      "metadata": {
        "id": "My9izL6nrpLr"
      },
      "source": [
        "# Ejercicio 11\n",
        "\n",
        "Una empresa distribuidora quiere un programa para gestionar el envío de productos a varias tiendas. Solicitar al usuario el número de productos diferentes y, para cada producto, la cantidad en stock y la cantidad enviada a cada tienda durante el mes. El programa debe mostrar el stock final de cada producto."
      ]
    },
    {
      "cell_type": "markdown",
      "metadata": {
        "id": "9Urqus6Xrufy"
      },
      "source": [
        "# Ejercicio 12\n",
        "\n",
        "Escribir un algoritmo que permita obtener la cantidad de números positivos de una tabla."
      ]
    },
    {
      "cell_type": "markdown",
      "metadata": {
        "id": "ZwP2-3KDrxuS"
      },
      "source": [
        "# Ejercicio 13\n",
        "\n",
        "Un profesor necesita un programa para evaluar los resultados de un examen. Solicitar al usuario el número de estudiantes y sus calificaciones. El programa debe calcular y mostrar la calificación promedio, la más alta y la más baja, y el número de estudiantes que aprobaron el examen (calificación >= 5)."
      ]
    },
    {
      "cell_type": "markdown",
      "metadata": {
        "id": "YPGZMLdPr_j9"
      },
      "source": [
        "# Ejercicio 14\n",
        "\n",
        "Una compañía de servicios públicos desea un programa para monitorizar el consumo de energía. Solicita al usuario el consumo diario de energía durante un mes y muestra el consumo total, el promedio diario y los días de máximo y mínimo consumo."
      ]
    },
    {
      "cell_type": "code",
      "execution_count": 41,
      "metadata": {},
      "outputs": [
        {
          "name": "stdout",
          "output_type": "stream",
          "text": [
            "Usuario 1\n",
            "El consumo total fue de: 9.0\n",
            "El consumo Maximo fue de: 3.0\n",
            "El consumo Minimo fue de: 1.0\n",
            "El consumo diario fue de: 2.25\n",
            " \n",
            "Usuario 2\n",
            "El consumo total fue de: 10.0\n",
            "El consumo Maximo fue de: 4.0\n",
            "El consumo Minimo fue de: 1.0\n",
            "El consumo diario fue de: 2.5\n",
            " \n"
          ]
        }
      ],
      "source": [
        "Usuario = 1\n",
        "Dias = 3 #Dias contando el día 0\n",
        "ConsumoDiario = 0\n",
        "\n",
        "ConsumoArray = [[0 for _ in range(Dias)] for _ in range(Usuario)]\n",
        "for ContadorUsuario in range(Usuario):\n",
        "    Consumo = float(input(f\"Ingrese el consumo diario día 0:\"))\n",
        "    ConsumoMaximo = Consumo\n",
        "    ConsumoMinimo = Consumo\n",
        "    ConsumoTotal = Consumo\n",
        "    for ContadorDias in range(Dias):\n",
        "        Consumo = float(input(f\"Ingrese el consumo diario día {ContadorDias+1}:\"))\n",
        "        ConsumoTotal += Consumo\n",
        "        \n",
        "        if Consumo > ConsumoMaximo:\n",
        "            ConsumoMaximo = Consumo\n",
        "\n",
        "        if Consumo < ConsumoMinimo:\n",
        "            ConsumoMinimo = Consumo\n",
        "        \n",
        "        \n",
        "    Dias2 = Dias + 1\n",
        "    ConsumoDiario = ConsumoTotal / Dias2\n",
        "    \n",
        "    print(f\"Usuario {ContadorUsuario+1}\")\n",
        "    print(f\"El consumo total fue de: {ConsumoTotal}\")\n",
        "    print(f\"El consumo Maximo fue de: {ConsumoMaximo}\")\n",
        "    print(f\"El consumo Minimo fue de: {ConsumoMinimo}\")\n",
        "    print(f\"El consumo diario fue de: {ConsumoDiario}\")\n",
        "    print(\" \")"
      ]
    },
    {
      "cell_type": "markdown",
      "metadata": {
        "id": "T_iuX3_osK1i"
      },
      "source": [
        "# Ejercicio 15\n",
        "\n",
        "Un teatro necesita un programa para analizar las ventas de boletos durante una semana. Solicitar al usuario el número de boletos vendidos cada día y calcular el total de ventas de la semana, el día con más y menos ventas, y el promedio diario de boletos vendidos."
      ]
    }
  ],
  "metadata": {
    "colab": {
      "provenance": []
    },
    "kernelspec": {
      "display_name": "Python 3",
      "name": "python3"
    },
    "language_info": {
      "codemirror_mode": {
        "name": "ipython",
        "version": 3
      },
      "file_extension": ".py",
      "mimetype": "text/x-python",
      "name": "python",
      "nbconvert_exporter": "python",
      "pygments_lexer": "ipython3",
      "version": "3.12.3"
    }
  },
  "nbformat": 4,
  "nbformat_minor": 0
}
