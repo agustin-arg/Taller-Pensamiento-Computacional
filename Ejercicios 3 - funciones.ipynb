{
 "cells": [
  {
   "cell_type": "markdown",
   "metadata": {},
   "source": [
    "Ejercicio 2\n",
    "\n",
    "En función del Ejercicio 6 de la Guía 1 realice un programa que calcule la altura promedio de N \n",
    "estudiantes. Cree una función `calcular_promedio_altura` que reciba una lista de alturas y devuelva \n",
    "la altura promedio."
   ]
  },
  {
   "cell_type": "code",
   "execution_count": 2,
   "metadata": {},
   "outputs": [
    {
     "name": "stdout",
     "output_type": "stream",
     "text": [
      "La altura promedio de los estudiantes es 1.6666666666666667\n"
     ]
    }
   ],
   "source": [
    "def CalcularPromedio(Altura1, Altura2, Altura3, Altura4):\n",
    "    AlturaTotal =+ Altura\n",
    "    return AlturaTotal\n",
    "cantidad = int(input(\"Ingrese la cantidad de alumnos: \"))\n",
    "\n",
    "for i in range(cantidad):\n",
    "    Altura = float(input(f\"Ingrese la altura del alumno {i+1}: \"))\n",
    "    AlturaTotal = CalularPromedio(Altura)\n",
    "    \n",
    "AlturaPromedio = AlturaTotal / cantidad\n",
    "print(f\"La altura promedio de los estudiantes es {AlturaPromedio}\")\n"
   ]
  },
  {
   "cell_type": "markdown",
   "metadata": {},
   "source": [
    "Ejercicio 3\n",
    "\n",
    "En función del Ejercicio 14 de la Guía 1 elabore un programa que permita ingresar el monto de \n",
    "venta alcanzado por un vendedor durante el mes y calcule la bonificación correspondiente. Cree \n",
    "una función `calcular_bonificacion` que reciba el monto de venta y devuelva la bonificación según \n",
    "las reglas especificadas"
   ]
  },
  {
   "cell_type": "code",
   "execution_count": 1,
   "metadata": {},
   "outputs": [
    {
     "name": "stdout",
     "output_type": "stream",
     "text": [
      "El vendedor leo DNI 45 le corresponde una bonifiacion del 3%\n",
      "El vendedor yo DNI 2 le corresponde una bonifiacion del 0%\n"
     ]
    }
   ],
   "source": [
    "def CalcularBonificacion(CantidadVentas):\n",
    "        if CantidadVentas <= 1000:\n",
    "            Bonificacion = 0\n",
    "        if CantidadVentas >= 1000 and CantidadVentas <= 5000:\n",
    "            Bonificacion = 3\n",
    "        if CantidadVentas >= 5000 and CantidadVentas <= 20000:\n",
    "            Bonificacion = 5\n",
    "        if CantidadVentas >= 20000:\n",
    "            Bonificacion = 8\n",
    "        return Bonificacion\n",
    "DNI= 1\n",
    "Bonificacion= 0 \n",
    "while DNI != 0:\n",
    "    DNI= int(input(\"Ingrese DNI del vendedor, de lo contrsario ingrese 0 para finalizar\"))\n",
    "    Nombre=str(input(\"Ingrese el nombre del vendedor\"))\n",
    "    Monto= int(input(\"Ingrese las ventas alcanzadas por el vendedor\"))\n",
    "    Bonificacion= CalcularBonificacion(Monto)\n",
    "    print(f\"El vendedor {Nombre} DNI {DNI} le corresponde una bonifiacion del {Bonificacion}%\")"
   ]
  }
 ],
 "metadata": {
  "kernelspec": {
   "display_name": "Python 3",
   "language": "python",
   "name": "python3"
  },
  "language_info": {
   "codemirror_mode": {
    "name": "ipython",
    "version": 3
   },
   "file_extension": ".py",
   "mimetype": "text/x-python",
   "name": "python",
   "nbconvert_exporter": "python",
   "pygments_lexer": "ipython3",
   "version": "3.12.4"
  }
 },
 "nbformat": 4,
 "nbformat_minor": 2
}
