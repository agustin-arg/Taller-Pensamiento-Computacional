{
  "cells": [
    {
      "cell_type": "markdown",
      "metadata": {
        "id": "Xmh4DZAeoWeG"
      },
      "source": [
        "# Ejercicio 1\n",
        "\n",
        "La asignatura Álgebra está organizada en 5 comisiones de 24 alumnos cada una. Se ingresa por cada alumno la calificación obtenida en una evaluación parcial y el número de comisión al que pertenece. Estos pares de datos llegan sin orden alguno. Informe el promedio de cada comisión."
      ]
    },
    {
      "cell_type": "code",
      "execution_count": null,
      "metadata": {
        "id": "kVLlOcnitI1b"
      },
      "outputs": [],
      "source": [
        "total_alumnos = 5 * 24\n",
        "comisiones = 5\n",
        "\n",
        "suma_notas = [0] * comisiones\n",
        "cantidad_notas = [0] * comisiones\n",
        "#Hizo dos array una de suma de notas para guardar  el total de las notas de cada comisión\n",
        "# Y oitra array donde guarda las cnatidades de nota que tiene cada comisión  comisión\n",
        "\n",
        "for i in range(total_alumnos):\n",
        "  nota = float(input('Ingrese la nota del alumno: '))\n",
        "  comision = int(input('Ingrese la comisión del alumno: '))\n",
        "  suma_notas[comision - 1] += nota\n",
        "  cantidad_notas[comision - 1] += 1\n",
        "#Ahora pide que ingrese la nota del alumno y la comision a la que pertenece, con el dato de la comision la usa para ubicar en q parte de la vector va,\n",
        "# la nota la usa para usar en ese parte del vector y en cantidad de nota solo suma una a la pocision de vector\n",
        "# La posicion del vector la saca tomando la variable comisión y restandole una, ya que los vectores empiezan desde 0\n",
        "for i in range(comisiones):\n",
        "  promedio = suma_notas[i] / cantidad_notas[i]\n",
        "  print(f'El promedio de la comisión {i + 1} es: {promedio}')\n",
        "  #Despues DIVIDE cada posicion de vector Suma_Notas y Cantidad_Notas para así optener el promedio"
      ]
    },
    {
      "cell_type": "markdown",
      "metadata": {
        "id": "JEGEXIQjoh-1"
      },
      "source": [
        "# Ejercicio 2\n",
        "\n",
        "Se desea realizar un algoritmo que permita controlar las reservas de plazas de un vuelo de acuerdo con las siguientes normas de la compañía aérea:  \n",
        "  - Número de plazas del avión: 300.  \n",
        "  - Plazas numeradas de 1 a 100: fumadores.  \n",
        "  - Plazas numeradas de 101 a 300: no fumadores.  \n",
        "\n",
        "Se debe realizar la reserva a petición del pasajero y cerrar la reserva cuando no haya plazas libres o se indique “fin”."
      ]
    },
    {
      "cell_type": "code",
      "execution_count": 1,
      "metadata": {
        "id": "httaBwsWtMQ1"
      },
      "outputs": [
        {
          "name": "stdout",
          "output_type": "stream",
          "text": [
            "Se le ha asignado la plaza 200\n",
            "Se le ha asignado la plaza 100\n",
            "Se le ha asignado la plaza 99\n",
            "Se le ha asignado la plaza 98\n",
            "Se le ha asignado la plaza 97\n",
            "Se le ha asignado la plaza 96\n",
            "Se le ha asignado la plaza 95\n"
          ]
        }
      ],
      "source": [
        "avion = [0] * 300\n",
        "plazas_libres = 300\n",
        "plazas_fumadores = 100\n",
        "plazas_no_fumadores = 200\n",
        "\n",
        "while plazas_libres > 0 and input(\"Ingrese 'fin' para terminar: \") != \"fin\":\n",
        "  fumador = input(\"¿Fuma? (s/n): \")\n",
        "\n",
        "  if fumador == \"s\":\n",
        "    if plazas_fumadores > 0:\n",
        "      plaza = plazas_fumadores - 1\n",
        "      plazas_fumadores -= 1\n",
        "    else:\n",
        "      plaza = plazas_no_fumadores - 1\n",
        "      plazas_no_fumadores -= 1\n",
        "  else:\n",
        "    plaza = plazas_no_fumadores - 1\n",
        "    plazas_no_fumadores -= 1\n",
        "\n",
        "  avion[plaza] = 1\n",
        "\n",
        "  plazas_libres -= 1\n",
        "\n",
        "  print(\"Se le ha asignado la plaza\", plaza + 1)\n",
        "\n",
        "print(\"Estado del avión:\")\n",
        "for i in range(300):\n",
        "  if avion[i] == 1:\n",
        "    print(\"Ocupada\", end=\" \")\n",
        "  else:\n",
        "    print(\"Libre\", end=\" \")\n",
        "  if (i + 1) % 10 == 0:\n",
        "    print()\n"
      ]
    },
    {
      "cell_type": "markdown",
      "metadata": {
        "id": "r2LfgOfxoxks"
      },
      "source": [
        "# Ejercicio 3\n",
        "\n",
        "Desarrollar un algoritmo que ayude a un hotel a gestionar las reservas para una semana. Solicitar al usuario el número total de habitaciones del hotel y luego, para cada día de la semana, el número de habitaciones reservadas. El programa debe mostrar cuántas habitaciones quedan disponibles cada día. Asegurarse de que los datos de entrada se ajusten a la capacidad del hotel."
      ]
    },
    {
      "cell_type": "code",
      "execution_count": null,
      "metadata": {
        "colab": {
          "base_uri": "https://localhost:8080/"
        },
        "id": "CbiU8Q7ptd3u",
        "outputId": "8747a9a8-1f1c-4006-8833-a5473c960809"
      },
      "outputs": [
        {
          "name": "stdout",
          "output_type": "stream",
          "text": [
            "Indique el número total de habitaciones: 100\n",
            "Ingrese la cantidad de habitaciones reservadas para el domingo: 43\n",
            "Ingrese la cantidad de habitaciones reservadas para el lunes: 98\n",
            "Ingrese la cantidad de habitaciones reservadas para el martes: 76\n",
            "Ingrese la cantidad de habitaciones reservadas para el miércoles: 89\n",
            "Ingrese la cantidad de habitaciones reservadas para el jueves: 57\n",
            "Ingrese la cantidad de habitaciones reservadas para el viernes: 98\n",
            "Ingrese la cantidad de habitaciones reservadas para el sábado: 89\n",
            "Habitaciones disponibles por día:\n",
            "domingo: 57\n",
            "lunes: 2\n",
            "martes: 24\n",
            "miércoles: 11\n",
            "jueves: 43\n",
            "viernes: 2\n",
            "sábado: 11\n"
          ]
        }
      ],
      "source": [
        "nombres_dias = [\"domingo\", \"lunes\", \"martes\", \"miércoles\", \"jueves\", \"viernes\", \"sábado\"]\n",
        "total_habitaciones = int(input(\"Indique el número total de habitaciones: \"))\n",
        "reservas = [0] * len(nombres_dias)\n",
        "\n",
        "for dia in range(len(nombres_dias)):\n",
        "    reserva_valida = False\n",
        "    while not reserva_valida:\n",
        "        reservas_dia = int(input(f\"Ingrese la cantidad de habitaciones reservadas para el {nombres_dias[dia]}: \"))\n",
        "        if 0 <= reservas_dia <= total_habitaciones:\n",
        "            reservas[dia] = reservas_dia\n",
        "            reserva_valida = True\n",
        "        else:\n",
        "            print(f\"El número ingresado debe estar entre 0 y {total_habitaciones}. Por favor, intente nuevamente.\")\n",
        "\n",
        "print(\"Habitaciones disponibles por día:\")\n",
        "for dia in range(len(reservas)):\n",
        "    print(f\"{nombres_dias[dia]}: {total_habitaciones - reservas[dia]}\")"
      ]
    },
    {
      "cell_type": "markdown",
      "metadata": {
        "id": "yZWWumFco7WO"
      },
      "source": [
        "# Ejercicio 4\n",
        "\n",
        "Escribir un algoritmo que permita calcular el cuadrado de los 100 primeros números enteros y a continuación escribir una tabla que contenga dichos cuadrados."
      ]
    },
    {
      "cell_type": "code",
      "execution_count": null,
      "metadata": {
        "colab": {
          "base_uri": "https://localhost:8080/"
        },
        "id": "QoQf-0d9teZF",
        "outputId": "e043d89b-5c17-475c-bf05-4f011954d0de"
      },
      "outputs": [
        {
          "name": "stdout",
          "output_type": "stream",
          "text": [
            "0^2 = 0\n",
            "1^2 = 1\n",
            "2^2 = 4\n",
            "3^2 = 9\n",
            "4^2 = 16\n",
            "5^2 = 25\n",
            "6^2 = 36\n",
            "7^2 = 49\n",
            "8^2 = 64\n",
            "9^2 = 81\n",
            "10^2 = 100\n",
            "11^2 = 121\n",
            "12^2 = 144\n",
            "13^2 = 169\n",
            "14^2 = 196\n",
            "15^2 = 225\n",
            "16^2 = 256\n",
            "17^2 = 289\n",
            "18^2 = 324\n",
            "19^2 = 361\n",
            "20^2 = 400\n",
            "21^2 = 441\n",
            "22^2 = 484\n",
            "23^2 = 529\n",
            "24^2 = 576\n",
            "25^2 = 625\n",
            "26^2 = 676\n",
            "27^2 = 729\n",
            "28^2 = 784\n",
            "29^2 = 841\n",
            "30^2 = 900\n",
            "31^2 = 961\n",
            "32^2 = 1024\n",
            "33^2 = 1089\n",
            "34^2 = 1156\n",
            "35^2 = 1225\n",
            "36^2 = 1296\n",
            "37^2 = 1369\n",
            "38^2 = 1444\n",
            "39^2 = 1521\n",
            "40^2 = 1600\n",
            "41^2 = 1681\n",
            "42^2 = 1764\n",
            "43^2 = 1849\n",
            "44^2 = 1936\n",
            "45^2 = 2025\n",
            "46^2 = 2116\n",
            "47^2 = 2209\n",
            "48^2 = 2304\n",
            "49^2 = 2401\n",
            "50^2 = 2500\n",
            "51^2 = 2601\n",
            "52^2 = 2704\n",
            "53^2 = 2809\n",
            "54^2 = 2916\n",
            "55^2 = 3025\n",
            "56^2 = 3136\n",
            "57^2 = 3249\n",
            "58^2 = 3364\n",
            "59^2 = 3481\n",
            "60^2 = 3600\n",
            "61^2 = 3721\n",
            "62^2 = 3844\n",
            "63^2 = 3969\n",
            "64^2 = 4096\n",
            "65^2 = 4225\n",
            "66^2 = 4356\n",
            "67^2 = 4489\n",
            "68^2 = 4624\n",
            "69^2 = 4761\n",
            "70^2 = 4900\n",
            "71^2 = 5041\n",
            "72^2 = 5184\n",
            "73^2 = 5329\n",
            "74^2 = 5476\n",
            "75^2 = 5625\n",
            "76^2 = 5776\n",
            "77^2 = 5929\n",
            "78^2 = 6084\n",
            "79^2 = 6241\n",
            "80^2 = 6400\n",
            "81^2 = 6561\n",
            "82^2 = 6724\n",
            "83^2 = 6889\n",
            "84^2 = 7056\n",
            "85^2 = 7225\n",
            "86^2 = 7396\n",
            "87^2 = 7569\n",
            "88^2 = 7744\n",
            "89^2 = 7921\n",
            "90^2 = 8100\n",
            "91^2 = 8281\n",
            "92^2 = 8464\n",
            "93^2 = 8649\n",
            "94^2 = 8836\n",
            "95^2 = 9025\n",
            "96^2 = 9216\n",
            "97^2 = 9409\n",
            "98^2 = 9604\n",
            "99^2 = 9801\n"
          ]
        }
      ],
      "source": [
        "for i in range(100):\n",
        "  print(f\"{i}^2 = {i ** 2}\")"
      ]
    },
    {
      "cell_type": "markdown",
      "metadata": {
        "id": "WhUtMOrfpD-W"
      },
      "source": [
        "# Ejercicio 5\n",
        "\n",
        "Se dispone de N temperaturas almacenadas en un array. Se desea calcular su media y obtener el número de temperaturas mayores o iguales que la media."
      ]
    },
    {
      "cell_type": "code",
      "execution_count": null,
      "metadata": {
        "colab": {
          "base_uri": "https://localhost:8080/"
        },
        "id": "HjQJgAWDtfOe",
        "outputId": "157114df-8f37-481b-9bba-ffc9c35d7d5b"
      },
      "outputs": [
        {
          "name": "stdout",
          "output_type": "stream",
          "text": [
            "[-5, 119, -261, -142, -22, -9, 180, -243, -158, -230, -258, 130, -185, 276, -216, -264, -231, 125, 9, 274, 81, -235, -202, -46, 288, 189, 120, -163, 251, -160, -77, 12, -80, -49, 37, 134, 43, 296, -41, -187, 165, 283, 98, 249, 274, -82, 159, 46, 279, 138, 150, 164, -73, 129]\n",
            "19.98148148148148\n"
          ]
        }
      ],
      "source": [
        "import random\n",
        "\n",
        "temperatures = [0] * random.randint(0,100)\n",
        "media = .0\n",
        "\n",
        "for temperature in range(len(temperatures)):\n",
        "  temperatures[temperature] = random.randint(-271, 300)\n",
        "  media += temperatures[temperature] / len(temperatures)\n",
        "\n",
        "print(temperatures)\n",
        "print(media)"
      ]
    },
    {
      "cell_type": "markdown",
      "metadata": {
        "id": "zt7a5f7UpOFI"
      },
      "source": [
        "# Ejercicio 6\n",
        "\n",
        "Escribir un algoritmo que solicite al usuario las temperaturas máximas registradas cada día durante una semana. Se debe calcular y mostrar la temperatura promedio de la semana, la temperatura más alta y la más baja. Asegurarse de que las temperaturas se ingresen como valores reales."
      ]
    },
    {
      "cell_type": "code",
      "execution_count": null,
      "metadata": {
        "colab": {
          "base_uri": "https://localhost:8080/"
        },
        "id": "sAlT1KodtgYn",
        "outputId": "0deb9db2-f5e1-4dfa-d238-f76a310e986c"
      },
      "outputs": [
        {
          "name": "stdout",
          "output_type": "stream",
          "text": [
            "Ingrese la temperatura máxima del domingo: 17\n",
            "Ingrese la temperatura máxima del lunes: 16\n",
            "Ingrese la temperatura máxima del martes: 15\n",
            "Ingrese la temperatura máxima del miercoles: 16\n",
            "Ingrese la temperatura máxima del jueves: 18\n",
            "Ingrese la temperatura máxima del viernes: 16\n",
            "Ingrese la temperatura máxima del sábado: 14\n",
            "[17.0, 16.0, 15.0, 16.0, 18.0, 16.0, 14.0]\n",
            "media: 16.0\n",
            "max: 18.0\n",
            "min: 14.0\n"
          ]
        }
      ],
      "source": [
        "semana = [0] * 7\n",
        "nombres_dias = [\"domingo\", \"lunes\", \"martes\", \"miercoles\", \"jueves\", \"viernes\", \"sábado\"]\n",
        "media = .0\n",
        "max = .0\n",
        "min = 100.0\n",
        "\n",
        "for dia in range(len(semana)):\n",
        "  semana[dia] = float(input(f\"Ingrese la temperatura máxima del {nombres_dias[dia]}: \"))\n",
        "  media += semana[dia] / len(semana)\n",
        "\n",
        "for dia in range(len(semana)):\n",
        "  if semana[dia] > max:\n",
        "    max = semana[dia]\n",
        "  if semana[dia] < min:\n",
        "    min = semana[dia]\n",
        "\n",
        "print(semana)\n",
        "print(\"media:\", media)\n",
        "print(\"max:\", max)\n",
        "print(\"min:\", min)"
      ]
    },
    {
      "cell_type": "markdown",
      "metadata": {
        "id": "7IWVh4UApWoa"
      },
      "source": [
        "# Ejercicio 7\n",
        "\n",
        "Un pequeño negocio desea analizar las ventas de los últimos seis meses. El usuario debe ingresar las ventas totales de cada mes, y el programa debe identificar y mostrar el mes con las mayores y menores ventas. Además, debe calcular el promedio de ventas mensuales."
      ]
    },
    {
      "cell_type": "code",
      "execution_count": null,
      "metadata": {
        "colab": {
          "base_uri": "https://localhost:8080/"
        },
        "id": "rewYx9zOtgtd",
        "outputId": "171dbdfb-8c87-45c8-8588-204b6887cb74"
      },
      "outputs": [
        {
          "name": "stdout",
          "output_type": "stream",
          "text": [
            "Ingrese las ventas totales del mes 1:345\n",
            "Ingrese las ventas totales del mes 2:26\n",
            "Ingrese las ventas totales del mes 3:5674\n",
            "Ingrese las ventas totales del mes 4:456\n",
            "Ingrese las ventas totales del mes 5:345\n",
            "Ingrese las ventas totales del mes 6:645\n",
            "[345.0, 26.0, 5674.0, 456.0, 345.0, 645.0]\n",
            "media: 1248.5\n",
            "min: 26.0\n",
            "max: 5674.0\n"
          ]
        }
      ],
      "source": [
        "import math\n",
        "\n",
        "meses = 6\n",
        "ventas_totales_por_mes = [0] * meses\n",
        "media = .0\n",
        "min = math.inf\n",
        "max = .0\n",
        "\n",
        "for mes in range(len(ventas_totales_por_mes)):\n",
        "  ventas_totales_por_mes[mes] = float(input(f\"Ingrese las ventas totales del mes {mes + 1}:\"))\n",
        "  media += ventas_totales_por_mes[mes] / len(ventas_totales_por_mes)\n",
        "\n",
        "for mes in range(len(ventas_totales_por_mes)):\n",
        "  if ventas_totales_por_mes[mes] > max:\n",
        "    max = ventas_totales_por_mes[mes]\n",
        "  if ventas_totales_por_mes[mes] < min:\n",
        "    min = ventas_totales_por_mes[mes]\n",
        "\n",
        "print(ventas_totales_por_mes)\n",
        "print(\"media:\", media)\n",
        "print(\"min:\", min)\n",
        "print(\"max:\", max)"
      ]
    },
    {
      "cell_type": "markdown",
      "metadata": {
        "id": "jezCog_OqmON"
      },
      "source": [
        "# Ejercicio 8\n",
        "Una empresa tiene diez almacenes y necesita crear un algoritmo que lea las ventas mensuales de los diez almacenes, calcular la media de ventas y obtener un listado de los almacenes cuyas ventas mensuales son superiores a la media."
      ]
    },
    {
      "cell_type": "code",
      "execution_count": null,
      "metadata": {
        "colab": {
          "base_uri": "https://localhost:8080/"
        },
        "id": "cWpUBnP5tjZW",
        "outputId": "a1706595-7a98-4bf8-86b3-62bbadc4ff74"
      },
      "outputs": [
        {
          "name": "stdout",
          "output_type": "stream",
          "text": [
            "Ingrese las ventas mensuales del almacén 1: 1\n",
            "Ingrese las ventas mensuales del almacén 2: 2\n",
            "Ingrese las ventas mensuales del almacén 3: 3\n",
            "Ingrese las ventas mensuales del almacén 4: 4\n",
            "\n",
            "Media de ventas mensuales de los 10 almacenes: $2.50\n",
            "\n",
            "Los almacenes que han superado las ventas mensuales fueron:\n",
            "  - Almacén 3 ($3.00)\n",
            "  - Almacén 4 ($4.00)\n"
          ]
        }
      ],
      "source": [
        "\n",
        "almacenes = 4\n",
        "ventas = [0]*almacenes\n",
        "media = .0\n",
        "\n",
        "for almacen in range(almacenes):\n",
        "  ventas[almacen] = float(input(f\"Ingrese las ventas mensuales del almacén {almacen + 1}: \"))\n",
        "\n",
        "for almacen in range(almacenes):\n",
        "  media += ventas[almacen] / almacenes\n",
        "print(\"\")\n",
        "print(f\"Media de ventas mensuales de los {cantidad_almacenes} almacenes: ${media:.2f}\")\n",
        "print(\"\")\n",
        "print(\"Los almacenes que han superado las ventas mensuales fueron:\")\n",
        "for almacen in range(almacenes):\n",
        "  if ventas[almacen] > media:\n",
        "    print(f\"  - Almacén {almacen + 1} (${ventas[almacen]:.2f})\")"
      ]
    },
    {
      "cell_type": "markdown",
      "metadata": {
        "id": "LLLM18QIraRt"
      },
      "source": [
        "# Ejercicio 9\n",
        "\n",
        "Crear un algoritmo para analizar una encuesta de satisfacción de clientes. Solicitar al usuario la cantidad de clientes encuestados y sus calificaciones (1 a 5 estrellas). El programa debe mostrar la calificación promedio y la cantidad de calificaciones de cada tipo."
      ]
    },
    {
      "cell_type": "code",
      "execution_count": null,
      "metadata": {
        "colab": {
          "base_uri": "https://localhost:8080/"
        },
        "id": "sgf37iqJtkX1",
        "outputId": "2f716521-bfbc-4462-e069-88c26dc28b01"
      },
      "outputs": [
        {
          "name": "stdout",
          "output_type": "stream",
          "text": [
            "Ingrese la cantidad de clientes encuestados: 5\n",
            "Ingrese una calificación entre 1 a 5 estrellas: 1\n",
            "Ingrese una calificación entre 1 a 5 estrellas: 2\n",
            "Ingrese una calificación entre 1 a 5 estrellas: 3\n",
            "Ingrese una calificación entre 1 a 5 estrellas: 4\n",
            "Ingrese una calificación entre 1 a 5 estrellas: 5\n",
            "media: 3.0\n",
            "1 ⭐⭐⭐⭐⭐\n",
            "1 ⭐⭐⭐⭐\n",
            "1 ⭐⭐⭐\n",
            "1 ⭐⭐\n",
            "1 ⭐\n"
          ]
        }
      ],
      "source": [
        "clientes_encuestados = int(input(\"Ingrese la cantidad de clientes encuestados: \"))\n",
        "calificaciones = [0] * clientes_encuestados\n",
        "estrellas = [0] * 5\n",
        "media = .0\n",
        "\n",
        "for i in range(len(calificaciones)):\n",
        "  calificaciones[i] = int(input(\"Ingrese una calificación entre 1 a 5 estrellas: \"))\n",
        "  media += calificaciones[i] / len(calificaciones)\n",
        "\n",
        "for i in range(len(calificaciones)):\n",
        "  if calificaciones[i] == 1:\n",
        "    estrellas[0] += 1\n",
        "  if calificaciones[i] == 2:\n",
        "    estrellas[1] += 1\n",
        "  if calificaciones[i] == 3:\n",
        "    estrellas[2] += 1\n",
        "  if calificaciones[i] == 4:\n",
        "    estrellas[3] += 1\n",
        "  if calificaciones[i] == 5:\n",
        "    estrellas[4] += 1\n",
        "\n",
        "print(\"media:\", media)\n",
        "for i in range(5, 0, -1):\n",
        "  print(estrellas[i - 1], \"⭐\" * i)"
      ]
    },
    {
      "cell_type": "markdown",
      "metadata": {
        "id": "QPe1QQcYrh8j"
      },
      "source": [
        "# Ejercicio 10\n",
        "\n",
        "Se dispone de una lista de N nombres de alumnos. Escribir un algoritmo que solicite el nombre de un alumno y busque en el array si el nombre está."
      ]
    },
    {
      "cell_type": "code",
      "execution_count": null,
      "metadata": {
        "colab": {
          "base_uri": "https://localhost:8080/"
        },
        "id": "ABxwvgDTtlLu",
        "outputId": "9a2770ab-37ca-471b-d68a-af4fc2a976b0"
      },
      "outputs": [
        {
          "name": "stdout",
          "output_type": "stream",
          "text": [
            "Ingrese un nombre para saber si está en la lista: Florencia\n",
            "El alumno está\n"
          ]
        }
      ],
      "source": [
        "alumnos = [\"Martín\", \"Rosario\", \"Lisandro\", \"Florencia\"]\n",
        "existe = False\n",
        "\n",
        "nombre = input(\"Ingrese un nombre para saber si está en la lista: \")\n",
        "\n",
        "for alumno in range(len(alumnos)):\n",
        "  if nombre == alumnos[alumno]:\n",
        "    existe = True\n",
        "\n",
        "print(\"El alumno está\" if existe else \"El alumno no está\")"
      ]
    },
    {
      "cell_type": "markdown",
      "metadata": {
        "id": "My9izL6nrpLr"
      },
      "source": [
        "# Ejercicio 11\n",
        "\n",
        "Una empresa distribuidora quiere un programa para gestionar el envío de productos a varias tiendas. Solicitar al usuario el número de productos diferentes y, para cada producto, la cantidad en stock y la cantidad enviada a cada tienda durante el mes. El programa debe mostrar el stock final de cada producto."
      ]
    },
    {
      "cell_type": "code",
      "execution_count": null,
      "metadata": {
        "colab": {
          "base_uri": "https://localhost:8080/"
        },
        "id": "0HyeKj9btmMu",
        "outputId": "5440ff1f-9980-400c-e003-715138909e6e"
      },
      "outputs": [
        {
          "name": "stdout",
          "output_type": "stream",
          "text": [
            "Ingrese la cantidad de productos: 3\n",
            "Ingrese la cantidad en stock del producto: 7\n",
            "Ingrese la cantidad enviada a las tiendas: 3\n",
            "Ingrese la cantidad en stock del producto: 5\n",
            "Ingrese la cantidad enviada a las tiendas: 1\n",
            "Ingrese la cantidad en stock del producto: 3\n",
            "Ingrese la cantidad enviada a las tiendas: 1\n",
            "Stock final de cada producto: \n",
            "  - Producto 1: 4\n",
            "  - Producto 2: 4\n",
            "  - Producto 3: 2\n"
          ]
        }
      ],
      "source": [
        "cantidad_de_productos = int(input(\"Ingrese la cantidad de productos: \"))\n",
        "stock = [[0] * 2 for _ in range(cantidad_de_productos)]\n",
        "\n",
        "for producto in range(len(stock)):\n",
        "  stock[producto][0] = int(input(\"Ingrese la cantidad en stock del producto: \"))\n",
        "  stock[producto][1] = int(input(\"Ingrese la cantidad enviada a las tiendas: \"))\n",
        "\n",
        "print(\"Stock final de cada producto: \")\n",
        "for producto in range(len(stock)):\n",
        "  print(f\"  - Producto {producto + 1}: {stock[producto][0] - stock[producto][1]}\")"
      ]
    },
    {
      "cell_type": "markdown",
      "metadata": {
        "id": "9Urqus6Xrufy"
      },
      "source": [
        "# Ejercicio 12\n",
        "\n",
        "Escribir un algoritmo que permita obtener la cantidad de números positivos de una tabla."
      ]
    },
    {
      "cell_type": "code",
      "execution_count": null,
      "metadata": {
        "colab": {
          "base_uri": "https://localhost:8080/"
        },
        "id": "zJpG4kjktnx_",
        "outputId": "2cc0dacb-6555-44e0-fdc7-45893371ce04"
      },
      "outputs": [
        {
          "name": "stdout",
          "output_type": "stream",
          "text": [
            "[27, -85, 11, 7, 19, -30, 10, 70, -58, -69]\n",
            "Cantidad de números positivos: 6\n"
          ]
        }
      ],
      "source": [
        "tabla = [random.randint(-100, 100) for _ in range(10)]\n",
        "print(tabla)\n",
        "positivos = 0\n",
        "\n",
        "for numero in tabla:\n",
        "  if numero > 0:\n",
        "    positivos += 1\n",
        "\n",
        "print(f\"Cantidad de números positivos: {positivos}\")\n"
      ]
    },
    {
      "cell_type": "markdown",
      "metadata": {
        "id": "ZwP2-3KDrxuS"
      },
      "source": [
        "# Ejercicio 13\n",
        "\n",
        "Un profesor necesita un programa para evaluar los resultados de un examen. Solicitar al usuario el número de estudiantes y sus calificaciones. El programa debe calcular y mostrar la calificación promedio, la más alta y la más baja, y el número de estudiantes que aprobaron el examen (calificación >= 5)."
      ]
    },
    {
      "cell_type": "code",
      "execution_count": null,
      "metadata": {
        "colab": {
          "base_uri": "https://localhost:8080/"
        },
        "id": "_Bv8jr2-to0O",
        "outputId": "ede12ae1-197b-4330-81f7-a29c6161353d"
      },
      "outputs": [
        {
          "name": "stdout",
          "output_type": "stream",
          "text": [
            "Ingrese el número de estudiantes evaluados: 5\n",
            "Ingrese la nota del alumno 1: 10\n",
            "2.0\n",
            "Ingrese la nota del alumno 2: 2\n",
            "2.4\n",
            "Ingrese la nota del alumno 3: 9\n",
            "4.2\n",
            "Ingrese la nota del alumno 4: 6\n",
            "5.4\n",
            "Ingrese la nota del alumno 5: 4\n",
            "6.2\n",
            "[10.0, 2.0, 9.0, 6.0, 4.0]\n",
            "6.2\n",
            "2.0\n",
            "10.0\n"
          ]
        }
      ],
      "source": [
        "cantidad_alumnos = int(input(\"Ingrese el número de estudiantes evaluados: \"))\n",
        "calificaciones = [0] * cantidad_alumnos\n",
        "media = .0\n",
        "min = 10\n",
        "max = 1\n",
        "\n",
        "for alumno in range(cantidad_alumnos):\n",
        "  calificaciones[alumno] = float(input(f\"Ingrese la nota del alumno {alumno + 1}: \"))\n",
        "  media += calificaciones[alumno] / cantidad_alumnos\n",
        "\n",
        "for alumno in range(cantidad_alumnos):\n",
        "  if calificaciones[alumno] > max:\n",
        "    max = calificaciones[alumno]\n",
        "  if calificaciones[alumno] < min:\n",
        "    min = calificaciones[alumno]\n",
        "\n",
        "print(calificaciones)\n",
        "print(media)\n",
        "print(min)\n",
        "print(max)"
      ]
    },
    {
      "cell_type": "markdown",
      "metadata": {
        "id": "YPGZMLdPr_j9"
      },
      "source": [
        "# Ejercicio 14\n",
        "\n",
        "Una compañía de servicios públicos desea un programa para monitorizar el consumo de energía. Solicita al usuario el consumo diario de energía durante un mes y muestra el consumo total, el promedio diario y los días de máximo y mínimo consumo."
      ]
    },
    {
      "cell_type": "code",
      "execution_count": null,
      "metadata": {
        "colab": {
          "base_uri": "https://localhost:8080/"
        },
        "id": "MbsbersLtpe2",
        "outputId": "d2ff6dc3-64f4-47bf-ff6d-32841492499f"
      },
      "outputs": [
        {
          "name": "stdout",
          "output_type": "stream",
          "text": [
            "Ingrese la cantidad de energía consumida el dia 1: 1\n",
            "Ingrese la cantidad de energía consumida el dia 2: 2\n",
            "Ingrese la cantidad de energía consumida el dia 3: 3\n",
            "Ingrese la cantidad de energía consumida el dia 4: 4\n",
            "Consumos por día: [1.0, 2.0, 3.0, 4.0]\n",
            "Consumo mensual total: 10.0\n",
            "Consumo diario promedio: 2.5\n",
            "Máximo consumo de un día: 1.0\n",
            "Mínimo consumo de un día: 4.0\n"
          ]
        }
      ],
      "source": [
        "import math\n",
        "\n",
        "consumo_energetico = [0] * 31\n",
        "consumo_total = 0\n",
        "media = .0\n",
        "min = math.inf\n",
        "max = .0\n",
        "\n",
        "\n",
        "for dia in range(len(consumo_energetico)):\n",
        "  consumo_energetico[dia] = float(input(f\"Ingrese la cantidad de energía consumida el dia {dia + 1}: \"))\n",
        "  consumo_total += consumo_energetico[dia]\n",
        "  media = consumo_total / len(consumo_energetico)\n",
        "\n",
        "for dia in range(len(consumo_energetico)):\n",
        "  if consumo_energetico[dia] > max:\n",
        "    max = consumo_energetico[dia]\n",
        "  if consumo_energetico[dia] < min:\n",
        "    min = consumo_energetico[dia]\n",
        "\n",
        "print(\"Consumos por día:\", consumo_energetico)\n",
        "print(\"Consumo mensual total:\", consumo_total)\n",
        "print(\"Consumo diario promedio:\", media)\n",
        "print(\"Máximo consumo de un día:\", min)\n",
        "print(\"Mínimo consumo de un día:\", max)"
      ]
    },
    {
      "cell_type": "markdown",
      "metadata": {
        "id": "T_iuX3_osK1i"
      },
      "source": [
        "# Ejercicio 15\n",
        "\n",
        "Un teatro necesita un programa para analizar las ventas de boletos durante una semana. Solicitar al usuario el número de boletos vendidos cada día y calcular el total de ventas de la semana, el día con más y menos ventas, y el promedio diario de boletos vendidos."
      ]
    },
    {
      "cell_type": "code",
      "execution_count": null,
      "metadata": {
        "colab": {
          "base_uri": "https://localhost:8080/"
        },
        "id": "-MIgZjuvtp-l",
        "outputId": "d749b7c8-5727-4c76-b4f2-40b61446ff1a"
      },
      "outputs": [
        {
          "name": "stdout",
          "output_type": "stream",
          "text": [
            "Ingrese la cantidad de boletos vendidos el día domingo: 5674\n",
            "Ingrese la cantidad de boletos vendidos el día lunes: 5473\n",
            "Ingrese la cantidad de boletos vendidos el día martes: 5293\n",
            "Ingrese la cantidad de boletos vendidos el día miercoles: 5834\n",
            "Boletos vendidos por día: [5674, 5473, 5293, 5834]\n",
            "Total de boletos vendidos: 22274\n",
            "Promedios boletos vendidos por día: 5568\n",
            "Máximo de boletos vendidos en un día: 5834\n",
            "Mínimo de boletos vendidos en un día: 5293\n"
          ]
        }
      ],
      "source": [
        "nombres_dias = [\"domingo\", \"lunes\", \"martes\", \"miercoles\", \"jueves\", \"viernes\", \"sábado\"]\n",
        "boletos_vendidos_por_dia = [0] * 7\n",
        "total = 0\n",
        "media = 0\n",
        "min = 6000\n",
        "max = 0\n",
        "\n",
        "for dia in range(len(boletos_vendidos_por_dia)):\n",
        "  boletos_vendidos_por_dia[dia] = int(input(f\"Ingrese la cantidad de boletos vendidos el día {nombres_dias[dia]}: \"))\n",
        "  total += boletos_vendidos_por_dia[dia]\n",
        "  media = total / len(boletos_vendidos_por_dia)\n",
        "\n",
        "for dia in range(len(boletos_vendidos_por_dia)):\n",
        "  if boletos_vendidos_por_dia[dia] > max:\n",
        "    max = boletos_vendidos_por_dia[dia]\n",
        "  if boletos_vendidos_por_dia[dia] < min:\n",
        "    min = boletos_vendidos_por_dia[dia]\n",
        "\n",
        "print(\"Boletos vendidos por día:\", boletos_vendidos_por_dia)\n",
        "print(\"Total de boletos vendidos:\", total)\n",
        "print(\"Promedios boletos vendidos por día:\", int(media))\n",
        "print(\"Máximo de boletos vendidos en un día:\", max)\n",
        "print(\"Mínimo de boletos vendidos en un día:\", min)"
      ]
    }
  ],
  "metadata": {
    "colab": {
      "provenance": []
    },
    "kernelspec": {
      "display_name": "Python 3",
      "name": "python3"
    },
    "language_info": {
      "codemirror_mode": {
        "name": "ipython",
        "version": 3
      },
      "file_extension": ".py",
      "mimetype": "text/x-python",
      "name": "python",
      "nbconvert_exporter": "python",
      "pygments_lexer": "ipython3",
      "version": "3.12.3"
    }
  },
  "nbformat": 4,
  "nbformat_minor": 0
}
