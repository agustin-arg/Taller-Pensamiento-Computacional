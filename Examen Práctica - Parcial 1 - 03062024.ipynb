{
 "cells": [
  {
   "cell_type": "markdown",
   "metadata": {},
   "source": [
    "Requisitos del sistema:\n",
    "\n",
    "El sistema debe recibir datos de temperatura de múltiples sensores distribuidos en diferentes partes de la instalación.\n",
    "\n",
    "La temperatura debe mantenerse dentro del rango de 2°C a 8°C.\n",
    "\n",
    "Si la temperatura supera los 8°C, el sistema debe incrementar la capacidad de enfriamiento.\n",
    "\n",
    "Si la temperatura cae por debajo de los 2°C, el sistema debe reducir la capacidad de enfriamiento.\n",
    "\n",
    "El control de la temperatura se basa en el promedio de las lecturas de todos los sensores.\n",
    "\n",
    "El algoritmo debe llevar un registro del estado actual del sistema (activo/inactivo).\n",
    "\n",
    "El sistema debe ejecutarse hasta que se hayan procesado un número específico de lecturas ingresadas por el usuario."
   ]
  },
  {
   "cell_type": "code",
   "execution_count": 7,
   "metadata": {},
   "outputs": [
    {
     "name": "stdout",
     "output_type": "stream",
     "text": [
      "El sistema se encuentra activo, aumentando la capacidad de enfriamiento...\n"
     ]
    }
   ],
   "source": [
    "RegistroSensores = int(input(\"Ingrese la cantidad de lecturas de temperatura registradas empezando por el lector N°0\"))\n",
    "TemperaturaMinima = 2\n",
    "TemperaturaMaxima = 8\n",
    "if RegistroSensores == 0:\n",
    "  print (\"No hay lecturas\")\n",
    "else:  \n",
    "    PromedioTemperatura = int(input(f\"ingrese lectura de temperatura N°0\"))\n",
    "    if RegistroSensores == 1:\n",
    "        if PromedioTemperatura < TemperaturaMinima:\n",
    "            print (\"El sistema se encuentra activo, reduciendo capacidad de enfriamiento...\")\n",
    "        elif PromedioTemperatura > TemperaturaMaxima:\n",
    "            print (\"El sistema se encuentra activo, aumentando capacidad de enfriamiento...\")\n",
    "        elif PromedioTemperatura > TemperaturaMinima and PromedioTemperatura < TemperaturaMaxima:\n",
    "            print (\"El sistema se encuentra inactivo, la temperatura se encuentra dentro del rango\")\n",
    "    else:\n",
    "        for i in range(RegistroSensores):\n",
    "            Dato=int(input(f\"ingrese lectura de temperatura N°{i+1}\"))\n",
    "            PromedioTemperatura = PromedioTemperatura + Dato / 2\n",
    "        if PromedioTemperatura < TemperaturaMinima:\n",
    "            print (\"El sistema se encuentra activo, reduciendo la capacidad de enfriamiento...\")\n",
    "        elif PromedioTemperatura > TemperaturaMaxima:\n",
    "            print (\"El sistema se encuentra activo, aumentando la capacidad de enfriamiento...\")\n",
    "        elif PromedioTemperatura > TemperaturaMinima and PromedioTemperatura < TemperaturaMaxima:\n",
    "            print (\"El sistema se encuentra inactivo, la temperatura se encuentra dentro del rango\")\n",
    "\n",
    "    "
   ]
  }
 ],
 "metadata": {
  "kernelspec": {
   "display_name": "Python 3",
   "language": "python",
   "name": "python3"
  },
  "language_info": {
   "codemirror_mode": {
    "name": "ipython",
    "version": 3
   },
   "file_extension": ".py",
   "mimetype": "text/x-python",
   "name": "python",
   "nbconvert_exporter": "python",
   "pygments_lexer": "ipython3",
   "version": "3.12.3"
  }
 },
 "nbformat": 4,
 "nbformat_minor": 2
}
