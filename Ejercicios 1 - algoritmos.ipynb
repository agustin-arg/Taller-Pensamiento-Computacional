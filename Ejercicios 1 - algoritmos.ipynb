{
 "cells": [
  {
   "cell_type": "markdown",
   "metadata": {},
   "source": [
    "# Ejercicio 01\n",
    "### Ingresar 3 valores numéricos. Determinar e informar el mayor."
   ]
  },
  {
   "cell_type": "code",
   "execution_count": 5,
   "metadata": {},
   "outputs": [
    {
     "ename": "ValueError",
     "evalue": "invalid literal for int() with base 10: ' '",
     "output_type": "error",
     "traceback": [
      "\u001b[1;31m---------------------------------------------------------------------------\u001b[0m",
      "\u001b[1;31mValueError\u001b[0m                                Traceback (most recent call last)",
      "Cell \u001b[1;32mIn[5], line 1\u001b[0m\n\u001b[1;32m----> 1\u001b[0m num1\u001b[38;5;241m=\u001b[39m\u001b[38;5;28;43mint\u001b[39;49m\u001b[43m(\u001b[49m\u001b[38;5;28;43minput\u001b[39;49m\u001b[43m(\u001b[49m\u001b[38;5;124;43m\"\u001b[39;49m\u001b[38;5;124;43mingresar primer numero: \u001b[39;49m\u001b[38;5;124;43m\"\u001b[39;49m\u001b[43m)\u001b[49m\u001b[43m)\u001b[49m\n\u001b[0;32m      2\u001b[0m num2\u001b[38;5;241m=\u001b[39m\u001b[38;5;28mint\u001b[39m(\u001b[38;5;28minput\u001b[39m(\u001b[38;5;124m\"\u001b[39m\u001b[38;5;124mingresar segundo número: \u001b[39m\u001b[38;5;124m\"\u001b[39m))\n\u001b[0;32m      3\u001b[0m num3\u001b[38;5;241m=\u001b[39m\u001b[38;5;28mint\u001b[39m(\u001b[38;5;28minput\u001b[39m(\u001b[38;5;124m\"\u001b[39m\u001b[38;5;124mingresar tercer número: \u001b[39m\u001b[38;5;124m\"\u001b[39m))\n",
      "\u001b[1;31mValueError\u001b[0m: invalid literal for int() with base 10: ' '"
     ]
    }
   ],
   "source": [
    "num1=int(input(\"ingresar primer numero: \"))\n",
    "num2=int(input(\"ingresar segundo número: \"))\n",
    "num3=int(input(\"ingresar tercer número: \"))\n",
    "\n",
    "if num1 >= num2 and num1 >= num3:\n",
    "    print(f\"{num1} es el mayor.\")\n",
    "elif num2 >= num1 and num2 >= num3:\n",
    "    print(f\"{num2} es el mayor.\")\n",
    "elif num3 >= num1 and num3 >= num2:\n",
    "    print(f\"{num3} es el mayor\")\n",
    "else:\n",
    "    print(\"Todos son iguales:\", num1)    "
   ]
  },
  {
   "cell_type": "markdown",
   "metadata": {},
   "source": [
    "# Ejercicio 02\n",
    "### Ingresar como datos N valores numéricos. Determinar e informar el mayor. N es dato inicial que se ingresa por teclado."
   ]
  },
  {
   "cell_type": "code",
   "execution_count": null,
   "metadata": {},
   "outputs": [
    {
     "name": "stdout",
     "output_type": "stream",
     "text": [
      "el numero mayor es 5\n"
     ]
    }
   ],
   "source": [
    "n = int(input(\"ingresar cantidad de numero a comparar\"))\n",
    "mayor = 0\n",
    "for i in range (n):\n",
    "    v = int(input(f\"ingrese numero{i+1}\"))\n",
    "    if v > mayor:\n",
    "        mayor = v\n",
    "print(f\"el numero mayor es {v}\")"
   ]
  },
  {
   "cell_type": "markdown",
   "metadata": {},
   "source": [
    "# Ejercicio 03\n",
    "### Escriba un algoritmo que permita calcular el área y el perímetro de un círculo a partir del radio, que el usuario ingresará por teclado. Proponga mensajes alusivos para pedir el dato de entrada y mostrar los datos de salida.\n",
    "#### Perimetro=2 * π * radio\n",
    "#### Area=π * radio**2"
   ]
  },
  {
   "cell_type": "code",
   "execution_count": null,
   "metadata": {},
   "outputs": [
    {
     "name": "stdout",
     "output_type": "stream",
     "text": [
      "El perímetro de un cículo con el radio 3 es 18.84955592153876 y su área es 28.274333882308138.\n"
     ]
    }
   ],
   "source": [
    "# se tiene que utilizar el comando \"import\" y la biblioteca \"math\", las bibliotecas tienen funciones especiales para llamar y utilizar.\n",
    "# en este caso la biblioteca math nos trae funciones matemáticas para llamar y utilizar.\n",
    "import math\n",
    "\n",
    "r=float(input(\"Ingrese el radio del circulo para calcular su perímetro y su área: \"))\n",
    "perimetro = r*2*math.pi\n",
    "area = math.pi*r**2\n",
    "print(f\"El perímetro de un cículo con el radio {r} es {perimetro} y su área es {area}.\")\n"
   ]
  },
  {
   "cell_type": "code",
   "execution_count": null,
   "metadata": {},
   "outputs": [
    {
     "name": "stdout",
     "output_type": "stream",
     "text": [
      "El perímetro de un círculo con radio 3.0 es 18.8496 y su área es 28.2743\n"
     ]
    }
   ],
   "source": [
    "# se tiene que utilizar el comando \"import\" y la biblioteca \"math\", las bibliotecas tienen funciones especiales para llamar y utilizar.\n",
    "# en este caso la biblioteca math nos trae funciones matemáticas para llamar y utilizar.\n",
    "import math\n",
    "\n",
    "r=float(input(\"Ingrese el radio del circulo para calcular su perímetro y su área: \"))\n",
    "# en la siguiente línea optimizamos el código para que directamente haga el cálculo en las llaves sin la necesidad\n",
    "# de crear nuevas variables.\n",
    "print(f\"El perímetro de un círculo con radio {r} es {r*2*math.pi:.4f} y su área es {math.pi*r**2:.4f}\")\n",
    "# al final del calculo de cada llave, damos el comando \":4f\" que indica la cantidad de decimales que queremos, en este caso 4 decimales."
   ]
  },
  {
   "cell_type": "markdown",
   "metadata": {},
   "source": [
    "# Ejercicio 04\n",
    "### Ingresar como datos los tres lados de un triángulo rectángulo. Estos datos se leen sin ningún orden. Determinar si los datos corresponden a ese tipo de triángulo. En caso de que no tratarse de un triángulo rectángulo indicar un mensaje alusivo; si lo es calcular e informar su área."
   ]
  },
  {
   "cell_type": "code",
   "execution_count": null,
   "metadata": {},
   "outputs": [
    {
     "name": "stdout",
     "output_type": "stream",
     "text": [
      "No es un triángulo rectángulo.\n"
     ]
    }
   ],
   "source": [
    "L1=float(input(\"Ingrese el primer lado: \"))\n",
    "L2=float(input(\"Ingrese el segundo lado: \"))\n",
    "L3=float(input(\"Ingrese el tercer lado: \"))\n",
    "hipotenusa = 0\n",
    "cateto_a = 0\n",
    "cateto_b = 0\n",
    "if L1>L2 and L1>L3:\n",
    "    hipotenusa = L1\n",
    "    cateto_a = L2\n",
    "    cateto_b = L3\n",
    "elif L2>L3 and L2>L1:\n",
    "    hipotenusa = L2\n",
    "    cateto_a = L1\n",
    "    cateto_b = L3\n",
    "else:\n",
    "    hipotenusa = L3\n",
    "    cateto_a = L1\n",
    "    cateto_b = L2\n",
    "\n",
    "resultado_1 = hipotenusa **2\n",
    "resultado_2 = cateto_a**2+cateto_b**2\n",
    "\n",
    "if resultado_1 == resultado_2:\n",
    "    print(\"Sí es un triángulo rectángulo.\")\n",
    "else:\n",
    "    print(\"No es un triángulo rectángulo.\")\n"
   ]
  },
  {
   "cell_type": "markdown",
   "metadata": {},
   "source": [
    "# Ejercicio 05\n",
    "### Se ingresa un número entero como dato. Determine si es par o impar. Informe un mensaje alusivo."
   ]
  },
  {
   "cell_type": "code",
   "execution_count": null,
   "metadata": {},
   "outputs": [
    {
     "name": "stdout",
     "output_type": "stream",
     "text": [
      "7 es impar.\n"
     ]
    }
   ],
   "source": [
    "numero = int(input(\"Ingrese un número entero: \"))\n",
    "if numero % 2 == 0:\n",
    "    print(f\"{numero} es par.\")\n",
    "else:\n",
    "    print(f\"{numero} es impar.\")"
   ]
  },
  {
   "cell_type": "markdown",
   "metadata": {},
   "source": [
    "# Ejercicio 06\n",
    "### Realice un programa que calcule la altura promedio de N estudiantes. Para eso se ingresa la altura de N estudiantes. N es el primer valor que se solicita al usuario.\n"
   ]
  },
  {
   "cell_type": "code",
   "execution_count": null,
   "metadata": {},
   "outputs": [
    {
     "name": "stdout",
     "output_type": "stream",
     "text": [
      "La altura promedio de los estudiantes es 6.4\n"
     ]
    }
   ],
   "source": [
    "cantidad = int(input(\"Ingrese la cantidad de alumnos: \"))\n",
    "altura_total = 0\n",
    "for i in range(cantidad):\n",
    "    altura = float(input(f\"Ingrese la altura del alumno {i+1}: \"))\n",
    "    altura_total += altura\n",
    "alturapromedio = altura_total / cantidad\n",
    "print(f\"La altura promedio de los estudiantes es {alturapromedio}\")"
   ]
  },
  {
   "cell_type": "markdown",
   "metadata": {},
   "source": [
    "# Ejercicio 07\n",
    "### En un curso de cierta universidad se desea determinar cuántos estudiantes varones superan la altura 1.90 m y cuantas mujeres superan 1.75m. Se leen como datos el sexo y la altura de los 12 integrantes del curso."
   ]
  },
  {
   "cell_type": "code",
   "execution_count": null,
   "metadata": {},
   "outputs": [],
   "source": [
    "hombres = 0\n",
    "mujeres = 0\n",
    "\n",
    "for i in range(12):\n",
    "    sexo = input(f\"Ingrese el sexo del estudiante {i + 1} (M/F): \")\n",
    "    altura = float(input(f\"Ingrese la altura del estudiante {i + 1} en metros: \"))\n",
    "\n",
    "    if sexo == 'M' or sexo == 'm' and altura > 1.90:\n",
    "        hombres += 1\n",
    "    elif sexo == 'F' or sexo == 'f' and altura > 1.75:\n",
    "        mujeres += 1\n",
    "\n",
    "print(f\"{hombres} hombres superan los 1.90m.\")\n",
    "print(f\"{mujeres} mujeres que superan los 1.75m\")"
   ]
  },
  {
   "cell_type": "markdown",
   "metadata": {},
   "source": [
    "# Ejercicio 08\n",
    "### Resolver el problema anterior considerando que la cantidad de estudiantes es desconocida. La entrada de datos termina cuando se ingresa una altura con un valor cero."
   ]
  },
  {
   "cell_type": "code",
   "execution_count": 4,
   "metadata": {},
   "outputs": [
    {
     "ename": "ValueError",
     "evalue": "invalid literal for int() with base 10: ' '",
     "output_type": "error",
     "traceback": [
      "\u001b[1;31m---------------------------------------------------------------------------\u001b[0m",
      "\u001b[1;31mValueError\u001b[0m                                Traceback (most recent call last)",
      "Cell \u001b[1;32mIn[4], line 3\u001b[0m\n\u001b[0;32m      1\u001b[0m hombres \u001b[38;5;241m=\u001b[39m \u001b[38;5;241m0\u001b[39m\n\u001b[0;32m      2\u001b[0m mujeres \u001b[38;5;241m=\u001b[39m \u001b[38;5;241m0\u001b[39m\n\u001b[1;32m----> 3\u001b[0m alumnos \u001b[38;5;241m=\u001b[39m \u001b[38;5;28;43mint\u001b[39;49m\u001b[43m(\u001b[49m\u001b[38;5;28;43minput\u001b[39;49m\u001b[43m(\u001b[49m\u001b[38;5;124;43m\"\u001b[39;49m\u001b[38;5;124;43mIngrese la cantidad de alumnos: \u001b[39;49m\u001b[38;5;124;43m\"\u001b[39;49m\u001b[43m)\u001b[49m\u001b[43m)\u001b[49m\n\u001b[0;32m      4\u001b[0m i \u001b[38;5;241m=\u001b[39m \u001b[38;5;28;01mNone\u001b[39;00m\n\u001b[0;32m      5\u001b[0m \u001b[38;5;28;01mfor\u001b[39;00m i \u001b[38;5;129;01min\u001b[39;00m \u001b[38;5;28mrange\u001b[39m (altura):\n",
      "\u001b[1;31mValueError\u001b[0m: invalid literal for int() with base 10: ' '"
     ]
    }
   ],
   "source": [
    "hombres = 0\n",
    "mujeres = 0\n",
    "alumnos = int(input(\"Ingrese la cantidad de alumnos: \"))\n",
    "i = None\n",
    "for i in range (altura):\n",
    "    sexo = input(f\"Ingrese el sexo del estudiante {i+1} (M/F): \")\n",
    "    altura = float(input(f\"Ingrese la altura del estudiante en metros: \"))\n",
    "    \n",
    "    if altura == 0:\n",
    "        break\n",
    "    elif sexo == 'M' or sexo == 'm' and altura > 1.90:\n",
    "        hombres += 1\n",
    "    elif sexo == 'F' or sexo == 'f' and altura > 1.75:\n",
    "        mujeres += 1\n",
    "\n",
    "print(f\"{hombres} hombres superan los 1.90m.\")\n",
    "print(f\"{mujeres} mujeres que superan los 1.75m\")"
   ]
  },
  {
   "cell_type": "markdown",
   "metadata": {},
   "source": [
    "# Ejercicio 09\n",
    "### La asignatura Álgebra está organizada en 5 comisiones de 24 alumnos cada una. Se ingresa por cada alumno la calificación obtenida en una evaluación parcial y el número de comisión al que pertenece. Estos pares de datos llegan sin orden alguno. Informe el promedio de cada comisión.\n"
   ]
  },
  {
   "cell_type": "code",
   "execution_count": null,
   "metadata": {},
   "outputs": [
    {
     "name": "stdout",
     "output_type": "stream",
     "text": [
      "promedio comision 1: 0, promedio comision 2: 5.0, promedio comision 3: 1.5, promedio comision 4: 0 y promedio comision 5: 2.5\n"
     ]
    }
   ],
   "source": [
    "Promedio_C1= 0\n",
    "Promedio_C2= 0\n",
    "Promedio_C3= 0\n",
    "Promedio_C4= 0\n",
    "Promedio_C5= 0\n",
    "for i in range(24):\n",
    "    comision = int(input(f\"ingrese la comisión a la que pertenece el alumno {i+1}\"))\n",
    "    calificacion = int(input(f\"ingrese la calificación del alumno {i+1}\"))\n",
    "    if comision == 1:\n",
    "        Promedio_C1 = Promedio_C1 + calificacion / 2\n",
    "    elif comision == 2:\n",
    "        Promedio_C2 = Promedio_C2 + calificacion / 2\n",
    "    elif comision == 3:\n",
    "        Promedio_C3 = Promedio_C3 + calificacion / 2\n",
    "    elif comision == 4:\n",
    "        Promedio_C4 = Promedio_C4 + calificacion / 2\n",
    "    elif comision == 5:\n",
    "        Promedio_C5 = Promedio_C4 + calificacion / 2\n",
    "print(f\"promedio comision 1: {Promedio_C1}, promedio comision 2: {Promedio_C2}, promedio comision 3: {Promedio_C3}, promedio comision 4: {Promedio_C4} y promedio comision 5: {Promedio_C5}\")\n"
   ]
  },
  {
   "cell_type": "markdown",
   "metadata": {},
   "source": [
    "# Ejercicio 10\n",
    "### Se ingresan 10 números cuyos valores corresponden a los de la ruleta (0,1,2,…,36), se pide hallar y mostrar por pantalla lo siguiente:\n",
    "### a) Cantidad de números impares.\n",
    "### b) Promedio de los números pares (no contar los ceros).\n",
    "### c) Cantidad de números que se encuentran en la 2º docena (13 al 24).\n",
    "### d) El número más grande."
   ]
  },
  {
   "cell_type": "code",
   "execution_count": 11,
   "metadata": {},
   "outputs": [
    {
     "name": "stdout",
     "output_type": "stream",
     "text": [
      "Cantidad de números impares: 5, promedio de los número pares: 17.5, cantidad de números que se encuentran en la 2° docena: 2 y número mas grande 12\n"
     ]
    }
   ],
   "source": [
    "cantidad_numeros_impares = 0\n",
    "promedio_numerospaeres = 0\n",
    "cantidad_numerodocena = 0\n",
    "numeromasgrande = 0\n",
    "for i in range(10):\n",
    "    numero = int(input(f\"ingrese numero {i+1}\"))\n",
    "    if numero % 2 == 0:\n",
    "        numero_par = numero\n",
    "        promedio_numerospaeres = numero_par + promedio_numerospaeres / 2\n",
    "    else: \n",
    "        cantidad_numeros_impares= cantidad_numeros_impares + 1\n",
    "    if numero >= 13 and numero <= 24:\n",
    "        cantidad_numerodocena = cantidad_numerodocena + 1\n",
    "    elif numero > numeromasgrande:\n",
    "        numeromasgrande = numero\n",
    "print(f\"Cantidad de números impares: {cantidad_numeros_impares}, promedio de los número pares: {promedio_numerospaeres}, cantidad de números que se encuentran en la 2° docena: {cantidad_numerodocena} y número mas grande {numeromasgrande}\")\n",
    "\n",
    "\n",
    "    \n",
    "\n"
   ]
  },
  {
   "cell_type": "markdown",
   "metadata": {},
   "source": [
    "# Ejercicio 11\n",
    "### Programe el juego Piedra-Papel-Tijera. Permita al usuario jugar contra la computadora. Para eso, en primer lugar, el usuario elegirá la opción correspondiente y la computadora mostrará la elegida aleatoriamente y determinará quién triunfó en la jugada."
   ]
  },
  {
   "cell_type": "code",
   "execution_count": 31,
   "metadata": {},
   "outputs": [
    {
     "name": "stdout",
     "output_type": "stream",
     "text": [
      "El número aleatorio es: 1\n"
     ]
    }
   ],
   "source": [
    "numero_aleatorio = random.randint(1, 3)\n",
    "usuario = int(input(\"elija entre la opciones piedra papel o tijera\"))\n",
    "    if numero_aleatorio == 1:\n",
    "        opcion_boot = \"piedra\"\n",
    "    elif numero_aleatorio == 2:\n",
    "        opcion_boot = \"papel\"\n",
    "    elif numero_aleatorio == 3:\n",
    "        opcion_boot = \"tijera\"\n",
    "if opcion_boot == op\n",
    "print(f\"El número aleatorio es: {numero_aleatorio}\")"
   ]
  },
  {
   "cell_type": "markdown",
   "metadata": {},
   "source": [
    "# Ejercicio 12\n",
    "### En base al programa realizado para el juego Piedra-Papel-Tijera, modifíquelo para que el ganador de la partida sea al mejor de 3 jugadas."
   ]
  },
  {
   "cell_type": "code",
   "execution_count": 16,
   "metadata": {},
   "outputs": [
    {
     "name": "stdout",
     "output_type": "stream",
     "text": [
      "perdiste está ronda, el bot elijio: papel,  intentos: 2\n",
      "perdiste está ronda, el bot elijio: papel, intentos: 1\n",
      "perdiste está ronda, el bot elijio: tijera,  intentos: 0\n",
      "Fin del juego\n",
      "Perdiste, Puntos del boot: 3, Tus puntos: 0 \n"
     ]
    }
   ],
   "source": [
    "import random\n",
    "numero_aleatorio = 0\n",
    "jugador = 0\n",
    "jugadas = 3\n",
    "PuntosJugador = 0\n",
    "PuntosBoot = 0\n",
    "while jugadas >  0:\n",
    "    numero_aleatorio = random.randint(1, 3)\n",
    "    if numero_aleatorio == 1:\n",
    "        boot = \"tijera\"\n",
    "    elif numero_aleatorio == 2:\n",
    "        boot = \"papel\"\n",
    "    else:\n",
    "        boot = \"piedra\"\n",
    "\n",
    "    jugador = str(input(\"Elija entre papel, piedra o tijera para jugar\"))\n",
    "    if numero_aleatorio == jugador:\n",
    "        jugadas -= 1\n",
    "        print ( f\"empate, el bot elijio: {boot}, intentos: {jugadas}\")\n",
    "    elif boot == \"tijera\" and jugador == \"papel\":\n",
    "        jugadas -= 1\n",
    "        PuntosBoot += 1\n",
    "        print ( f\"perdiste está ronda, el bot elijio: {boot},  intentos: {jugadas}\")\n",
    "    elif boot == \"papel\" and jugador == \"piedra\":\n",
    "        jugadas -= 1\n",
    "        PuntosBoot += 1\n",
    "        print ( f\"perdiste está ronda, el bot elijio: {boot},  intentos: {jugadas}\")\n",
    "        jugadas -= 1\n",
    "        PuntosBoot += 1\n",
    "        print ( f\"perdiste está ronda, el bot elijio: {boot}, intentos: {jugadas}\")\n",
    "    elif jugador == \"tijera\" and boot == \"papel\":\n",
    "        jugadas -= 1\n",
    "        PuntosJugador += 1\n",
    "        print ( f\"ganaste está ronda, el bot elijio: {boot}, intentos: {jugadas}\")\n",
    "    elif jugador == \"papel\" and boot == \"piedra\":\n",
    "        PuntosJugador += 1\n",
    "        jugadas -= 1\n",
    "        print ( f\"ganaste está ronda, el bot elijio: {boot}, intentos: {jugadas}\")\n",
    "    elif jugador == \"piedra\" and boot == \"tijera\":\n",
    "        PuntosJugador += 1\n",
    "        jugadas -= 1\n",
    "        print ( f\"ganaste está ronda, el bot elijio: {boot}, intentos: {jugadas}\")\n",
    "print (\"Fin del juego\")\n",
    "if PuntosBoot == PuntosJugador:\n",
    "    print (f\"Empate, Puntos del boot: {PuntosBoot}, Tus puntos: {PuntosJugador} \")\n",
    "if PuntosBoot < PuntosJugador:\n",
    "    print (f\"Ganaste, Puntos del boot: {PuntosBoot}, Tus puntos: {PuntosJugador} \")\n",
    "if PuntosBoot > PuntosJugador:\n",
    "    print (f\"Perdiste, Puntos del boot: {PuntosBoot}, Tus puntos: {PuntosJugador} \")"
   ]
  },
  {
   "cell_type": "markdown",
   "metadata": {},
   "source": [
    "# Ejercicio 13\n",
    "### Programe un algoritmo que elija un número al azar menor a 150 y permita al usuario adivinarlo en tres intentos. El programa debe dar pistas al usuario luego de cada intento informando si el número incógnita es mayor o menor al ingresado."
   ]
  },
  {
   "cell_type": "code",
   "execution_count": 57,
   "metadata": {},
   "outputs": [
    {
     "name": "stdout",
     "output_type": "stream",
     "text": [
      "El numero a adivinar es mas chico, te quedan 2 intentos\n",
      "El numero a adivinar es mas grande, te quedan 1 intentos\n",
      "Ganaste, El número era 3\n"
     ]
    }
   ],
   "source": [
    "import random\n",
    "NumeroAdivinar = random.randint(1, 149)\n",
    "intentos = 3\n",
    "win= 0\n",
    "while intentos > 0 and win == 0:\n",
    "    Numero=int(input(\"Ingrese un número para adivinar.\"))\n",
    "    if Numero == NumeroAdivinar:\n",
    "        win +=1\n",
    "    elif Numero < NumeroAdivinar:\n",
    "        intentos -= 1\n",
    "        print (f\"El numero a adivinar es mas grande, te quedan {intentos} intentos\")\n",
    "    elif Numero > NumeroAdivinar:\n",
    "        intentos -= 1\n",
    "        print (f\"El numero a adivinar es mas chico, te quedan {intentos} intentos\")\n",
    "if win == 1:\n",
    "    print (f\"Ganaste, El número era {NumeroAdivinar}\")\n",
    "else:\n",
    "  print (f\"Perdiste, El número era {NumeroAdivinar}\")  \n"
   ]
  },
  {
   "cell_type": "markdown",
   "metadata": {},
   "source": [
    "# Ejercicio 14\n",
    "### Elaborar un algoritmo que permita ingresar el monto de venta alcanzado por un vendedor durante el mes luego de calcular la bonificación que le corresponde sabiendo que:\n",
    "### 0-1.000 la bonificación es 0%.\n",
    "### 1.000-5.000 la bonificación es de 3%.\n",
    "### 5.000-20.000 la bonificación es de 5%.\n",
    "### + de 20.000 la bonificación es de 8%\n",
    "### El algoritmo debe pedir el DNI, el nombre y el monto de cada vendedor y cuando ingresa un 0 en el DNI, finalizar. Mostrar el promedio total de todos los vendedores de la empresa."
   ]
  },
  {
   "cell_type": "code",
   "execution_count": 5,
   "metadata": {},
   "outputs": [
    {
     "name": "stdout",
     "output_type": "stream",
     "text": [
      "El vendedor l DNI 4 cuenta con una cantidad de 3000 ventas realizadas por lo cual le corresponde úna bonifiacion del 3%\n"
     ]
    },
    {
     "ename": "KeyboardInterrupt",
     "evalue": "Interrupted by user",
     "output_type": "error",
     "traceback": [
      "\u001b[1;31m---------------------------------------------------------------------------\u001b[0m",
      "\u001b[1;31mKeyboardInterrupt\u001b[0m                         Traceback (most recent call last)",
      "Cell \u001b[1;32mIn[5], line 5\u001b[0m\n\u001b[0;32m      3\u001b[0m \u001b[38;5;28;01mwhile\u001b[39;00m DNI \u001b[38;5;241m!=\u001b[39m \u001b[38;5;241m0\u001b[39m:\n\u001b[0;32m      4\u001b[0m     DNI\u001b[38;5;241m=\u001b[39m \u001b[38;5;28mint\u001b[39m(\u001b[38;5;28minput\u001b[39m(\u001b[38;5;124m\"\u001b[39m\u001b[38;5;124mIngrese DNI del vendedor, de lo contrsario ingrese 0 para finalizar\u001b[39m\u001b[38;5;124m\"\u001b[39m))\n\u001b[1;32m----> 5\u001b[0m     Nombre\u001b[38;5;241m=\u001b[39m\u001b[38;5;28mstr\u001b[39m(\u001b[38;5;28;43minput\u001b[39;49m\u001b[43m(\u001b[49m\u001b[38;5;124;43m\"\u001b[39;49m\u001b[38;5;124;43mIngrese el nombre del vendedor\u001b[39;49m\u001b[38;5;124;43m\"\u001b[39;49m\u001b[43m)\u001b[49m)\n\u001b[0;32m      6\u001b[0m     Monto\u001b[38;5;241m=\u001b[39m \u001b[38;5;28mint\u001b[39m(\u001b[38;5;28minput\u001b[39m(\u001b[38;5;124m\"\u001b[39m\u001b[38;5;124mIngrese las ventas alcanzadas por el vendedor\u001b[39m\u001b[38;5;124m\"\u001b[39m))\n\u001b[0;32m      7\u001b[0m     \u001b[38;5;28;01mif\u001b[39;00m Monto \u001b[38;5;241m<\u001b[39m\u001b[38;5;241m=\u001b[39m \u001b[38;5;241m1000\u001b[39m:\n",
      "File \u001b[1;32m~\\AppData\\Roaming\\Python\\Python312\\site-packages\\ipykernel\\kernelbase.py:1282\u001b[0m, in \u001b[0;36mKernel.raw_input\u001b[1;34m(self, prompt)\u001b[0m\n\u001b[0;32m   1280\u001b[0m     msg \u001b[38;5;241m=\u001b[39m \u001b[38;5;124m\"\u001b[39m\u001b[38;5;124mraw_input was called, but this frontend does not support input requests.\u001b[39m\u001b[38;5;124m\"\u001b[39m\n\u001b[0;32m   1281\u001b[0m     \u001b[38;5;28;01mraise\u001b[39;00m StdinNotImplementedError(msg)\n\u001b[1;32m-> 1282\u001b[0m \u001b[38;5;28;01mreturn\u001b[39;00m \u001b[38;5;28;43mself\u001b[39;49m\u001b[38;5;241;43m.\u001b[39;49m\u001b[43m_input_request\u001b[49m\u001b[43m(\u001b[49m\n\u001b[0;32m   1283\u001b[0m \u001b[43m    \u001b[49m\u001b[38;5;28;43mstr\u001b[39;49m\u001b[43m(\u001b[49m\u001b[43mprompt\u001b[49m\u001b[43m)\u001b[49m\u001b[43m,\u001b[49m\n\u001b[0;32m   1284\u001b[0m \u001b[43m    \u001b[49m\u001b[38;5;28;43mself\u001b[39;49m\u001b[38;5;241;43m.\u001b[39;49m\u001b[43m_parent_ident\u001b[49m\u001b[43m[\u001b[49m\u001b[38;5;124;43m\"\u001b[39;49m\u001b[38;5;124;43mshell\u001b[39;49m\u001b[38;5;124;43m\"\u001b[39;49m\u001b[43m]\u001b[49m\u001b[43m,\u001b[49m\n\u001b[0;32m   1285\u001b[0m \u001b[43m    \u001b[49m\u001b[38;5;28;43mself\u001b[39;49m\u001b[38;5;241;43m.\u001b[39;49m\u001b[43mget_parent\u001b[49m\u001b[43m(\u001b[49m\u001b[38;5;124;43m\"\u001b[39;49m\u001b[38;5;124;43mshell\u001b[39;49m\u001b[38;5;124;43m\"\u001b[39;49m\u001b[43m)\u001b[49m\u001b[43m,\u001b[49m\n\u001b[0;32m   1286\u001b[0m \u001b[43m    \u001b[49m\u001b[43mpassword\u001b[49m\u001b[38;5;241;43m=\u001b[39;49m\u001b[38;5;28;43;01mFalse\u001b[39;49;00m\u001b[43m,\u001b[49m\n\u001b[0;32m   1287\u001b[0m \u001b[43m\u001b[49m\u001b[43m)\u001b[49m\n",
      "File \u001b[1;32m~\\AppData\\Roaming\\Python\\Python312\\site-packages\\ipykernel\\kernelbase.py:1325\u001b[0m, in \u001b[0;36mKernel._input_request\u001b[1;34m(self, prompt, ident, parent, password)\u001b[0m\n\u001b[0;32m   1322\u001b[0m \u001b[38;5;28;01mexcept\u001b[39;00m \u001b[38;5;167;01mKeyboardInterrupt\u001b[39;00m:\n\u001b[0;32m   1323\u001b[0m     \u001b[38;5;66;03m# re-raise KeyboardInterrupt, to truncate traceback\u001b[39;00m\n\u001b[0;32m   1324\u001b[0m     msg \u001b[38;5;241m=\u001b[39m \u001b[38;5;124m\"\u001b[39m\u001b[38;5;124mInterrupted by user\u001b[39m\u001b[38;5;124m\"\u001b[39m\n\u001b[1;32m-> 1325\u001b[0m     \u001b[38;5;28;01mraise\u001b[39;00m \u001b[38;5;167;01mKeyboardInterrupt\u001b[39;00m(msg) \u001b[38;5;28;01mfrom\u001b[39;00m \u001b[38;5;28;01mNone\u001b[39;00m\n\u001b[0;32m   1326\u001b[0m \u001b[38;5;28;01mexcept\u001b[39;00m \u001b[38;5;167;01mException\u001b[39;00m:\n\u001b[0;32m   1327\u001b[0m     \u001b[38;5;28mself\u001b[39m\u001b[38;5;241m.\u001b[39mlog\u001b[38;5;241m.\u001b[39mwarning(\u001b[38;5;124m\"\u001b[39m\u001b[38;5;124mInvalid Message:\u001b[39m\u001b[38;5;124m\"\u001b[39m, exc_info\u001b[38;5;241m=\u001b[39m\u001b[38;5;28;01mTrue\u001b[39;00m)\n",
      "\u001b[1;31mKeyboardInterrupt\u001b[0m: Interrupted by user"
     ]
    }
   ],
   "source": [
    "DNI= 1\n",
    "Bonificacion = 0\n",
    "while DNI != 0:\n",
    "    DNI= int(input(\"Ingrese DNI del vendedor, de lo contrsario ingrese 0 para finalizar\"))\n",
    "    Nombre=str(input(\"Ingrese el nombre del vendedor\"))\n",
    "    Monto= int(input(\"Ingrese las ventas alcanzadas por el vendedor\"))\n",
    "    if Monto <= 1000:\n",
    "        Bonificacion = 0\n",
    "    if Monto >= 1000 and Monto <= 5000:\n",
    "        Bonificacion = 3\n",
    "    if Monto >= 5000 and Monto <= 20000:\n",
    "        Bonificacion = 5\n",
    "    if Monto >= 20000:\n",
    "        Bonificacion = 8\n",
    "    print(f\"El vendedor {Nombre} DNI {DNI} cuenta con una cantidad de {Monto} ventas realizadas por lo cual le corresponde úna bonifiacion del {Bonificacion}%\")\n",
    "    \n",
    "    \n",
    "            "
   ]
  },
  {
   "cell_type": "markdown",
   "metadata": {},
   "source": [
    "# Ejercicio 15\n",
    "### Diseñar el algoritmo correspondiente a un programa que pida el total de kilómetros recorridos, el precio del combustible (por litro), el dinero gastado en combustible en el viaje y el tiempo que se ha tardado (en horas y minutos) y que calcule lo siguiente:\n",
    "### Consumo de gasolina (en litros y $) por cada 100 km.\n",
    "### Consumo de gasolina (en litros y $) por cada km.\n",
    "### Velocidad media (en km/h y m/s)."
   ]
  },
  {
   "cell_type": "code",
   "execution_count": null,
   "metadata": {},
   "outputs": [],
   "source": []
  },
  {
   "cell_type": "markdown",
   "metadata": {},
   "source": [
    "# Ejercicio 16\n",
    "### Diseñar un algoritmo que ingresando un número de 5 dígitos detecte si es capicúa. Mostrar un cartel «Es capicúa» o «No es capicúa» según el resultado."
   ]
  },
  {
   "cell_type": "code",
   "execution_count": null,
   "metadata": {},
   "outputs": [],
   "source": []
  },
  {
   "cell_type": "markdown",
   "metadata": {},
   "source": [
    "# Ejercicio 17\n",
    "### Obtener la liquidación del sueldo de un empleado y sus detalles, teniendo en cuenta que:\n",
    "### · La empresa empleadora, bonifica sobre el sueldo básico (SB) la antigüedad del empleado con un 1.2% por año. Además, paga el presentismo con un monto fijo (MP).\n",
    "### · Entre los descuentos, se deben contabilizar: el aporte jubilatorio (AJ) que representa un 11% del sueldo básico; aporte a obra social (OS) con un 3% del básico y el aporte gremial (AG) con un 1% del básico.\n",
    "### · El empleador paga además 800.00 por cónyuge y 400.00 por cada hijo.\n",
    "### · Son datos del problema: nombre y apellido del empleado, DNI, sueldo básico, antigüedad en años, estado civil ( 1 si es casado, 0 si es soltero ), número de hijos, presentismo (1 si corresponde cobrar, 0 si no cobra).\n",
    "### Obtenga una salida con mensajes alusivos describiendo los haberes, los descuentos y el sueldo neto a cobrar."
   ]
  },
  {
   "cell_type": "code",
   "execution_count": 57,
   "metadata": {},
   "outputs": [
    {
     "name": "stdout",
     "output_type": "stream",
     "text": [
      "Empleado: Juan Perez.\n",
      "Número de documento: 46041700\n",
      "\n",
      "Haberes a cobrar:\n",
      "Años de antiguedad: $11520.00\n",
      "Presentismo: $64800.00\n",
      "Estado Civil: $800.00\n",
      "Bonificación por hijos: $800.00\n",
      "\n",
      "Descuentos:\n",
      "Aporte jubilatorio: $26400.00\n",
      "Obra social: $7200.00\n",
      "Aporte gremial: $2400.00\n",
      "Total neto: $240000.00\n",
      "Sueldo a cobrar: $281920.00\n"
     ]
    }
   ],
   "source": [
    "nombre_apellido = input(\"Ingrese su nombre y apellido: \")\n",
    "dni = int(input(\"Ingrese su número de documento sin puntos: \"))\n",
    "sueldo_basico = float(input(\"Ingrese su seldo básico: \"))\n",
    "antiguedad = float(input(\"Ingrese la cantidad de años que lleva trabajando: \"))\n",
    "estado_civil = int(input(\"Ingrese su estado civil (1 si es casado y 0 si es soltero): \"))\n",
    "numero_hijos = int(input(\"Ingrese la cantidad de hijos: \"))\n",
    "presentismo = int(input(\"¿Faltaste algún día del mes o llegaste tarde? (1 para sí y 0 para no): \"))\n",
    "\n",
    "if presentismo == 0:\n",
    "    valor_presentismo = float(input(\"Ingrese el valor del presentismo: \"))\n",
    "    bonificacion_presentismo = sueldo_basico * valor_presentismo / 100\n",
    "if estado_civil == 1:\n",
    "    bonificacion_estadocivil = 800.00\n",
    "else:\n",
    "    bonificacion_estadocivil = 0\n",
    "\n",
    "aj = sueldo_basico * 11 / 100\n",
    "os = sueldo_basico * 3 / 100\n",
    "ag = sueldo_basico * 1 / 100\n",
    "bonificacion_antiguedad = sueldo_basico * 1.2 / 100 * antiguedad\n",
    "bonificacion_hijo = 400.00 * numero_hijos\n",
    "liquidacion_sueldo = bonificacion_antiguedad + sueldo_basico + bonificacion_presentismo + bonificacion_estadocivil + bonificacion_hijo - aj - os - ag\n",
    "\n",
    "print(f\"Empleado: {nombre_apellido}.\") \n",
    "print(f\"Número de documento: {dni}\")\n",
    "print(\"\")\n",
    "print(f\"Haberes a cobrar:\")\n",
    "print(f\"Años trabajando: ${bonificacion_antiguedad:.2f}\")\n",
    "print(f\"Presentismo: ${bonificacion_presentismo:.2f}\")\n",
    "print(f\"Estado Civil: ${bonificacion_estadocivil:.2f}\")\n",
    "print(f\"Bonificación por hijos: ${bonificacion_hijo:.2f}\")\n",
    "print(\"\")\n",
    "print(f\"Descuentos:\")\n",
    "print(f\"Aporte jubilatorio: ${aj:.2f}\")\n",
    "print(f\"Obra social: ${os:.2f}\")\n",
    "print(f\"Aporte gremial: ${ag:.2f}\")\n",
    "print(f\"Total neto: ${sueldo_basico:.2f}\")\n",
    "print(f\"Sueldo a cobrar: ${liquidacion_sueldo:.2f}\")"
   ]
  },
  {
   "cell_type": "code",
   "execution_count": 42,
   "metadata": {},
   "outputs": [
    {
     "name": "stdout",
     "output_type": "stream",
     "text": [
      "50.0\n"
     ]
    }
   ],
   "source": [
    "print(sueldo_basico)"
   ]
  },
  {
   "cell_type": "code",
   "execution_count": null,
   "metadata": {},
   "outputs": [],
   "source": []
  },
  {
   "cell_type": "code",
   "execution_count": 14,
   "metadata": {},
   "outputs": [
    {
     "name": "stdout",
     "output_type": "stream",
     "text": [
      "hola\n",
      " Luis\n"
     ]
    }
   ],
   "source": [
    "print(f\"hola\\n Luis\")"
   ]
  },
  {
   "cell_type": "code",
   "execution_count": null,
   "metadata": {},
   "outputs": [],
   "source": []
  },
  {
   "cell_type": "markdown",
   "metadata": {},
   "source": [
    "# Ejercicio 18\n",
    "### La sucesión de Fibonacci genera la siguiente secuencia de números: 1, 1, 2, 3, 5, 8, etcétera. Es decir que se obtiene de sumar los dos números anteriores. El siguiente es el término general:\n",
    "### an = an-1+an-2 \n",
    "### Se pide que diseñe un programa que le solicite al usuario un número entero positivo K y luego muestre en pantalla el K-ésimo término de la sucesión de Fibonacci. Por ejemplo, si el usuario ingresa por teclado el número 10 entonces el algoritmo debe mostrar el valor correspondiente a a10."
   ]
  },
  {
   "cell_type": "code",
   "execution_count": null,
   "metadata": {},
   "outputs": [],
   "source": []
  },
  {
   "cell_type": "markdown",
   "metadata": {},
   "source": [
    "# Ejercicio 19\n",
    "### Crear un programa que convierta la temperatura de grados Celsius a Fahrenheit. La fórmula es F = C × 1.8 + 32."
   ]
  },
  {
   "cell_type": "code",
   "execution_count": null,
   "metadata": {},
   "outputs": [],
   "source": []
  },
  {
   "cell_type": "markdown",
   "metadata": {},
   "source": [
    "# Ejercicio 20\n",
    "### Escribir un programa que pida 10 números y al final muestre cuántos eran pares y cuántos impares."
   ]
  },
  {
   "cell_type": "code",
   "execution_count": null,
   "metadata": {},
   "outputs": [],
   "source": []
  },
  {
   "cell_type": "markdown",
   "metadata": {},
   "source": [
    "# Ejercicio 21\n",
    "### Escribir un programa que pida un número al usuario y determine si es primo o no."
   ]
  },
  {
   "cell_type": "code",
   "execution_count": null,
   "metadata": {},
   "outputs": [],
   "source": []
  },
  {
   "cell_type": "markdown",
   "metadata": {},
   "source": [
    "# Ejercicio 22\n",
    "### Escribir un programa que pida una cadena de texto y cuente cuántas vocales contiene."
   ]
  },
  {
   "cell_type": "code",
   "execution_count": null,
   "metadata": {},
   "outputs": [],
   "source": []
  },
  {
   "cell_type": "markdown",
   "metadata": {},
   "source": [
    "# Ejercicio 23\n",
    "### Solicitar un número N y mostrar una lista de los cuadrados de los números del 1 al N."
   ]
  },
  {
   "cell_type": "code",
   "execution_count": null,
   "metadata": {},
   "outputs": [],
   "source": []
  },
  {
   "cell_type": "markdown",
   "metadata": {},
   "source": [
    "# Ejercicio 24\n",
    "### Escribir un programa que determine si una cadena de texto ingresada por el usuario es un palíndromo (se lee igual de adelante hacia atrás que de atrás hacia adelante)."
   ]
  },
  {
   "cell_type": "code",
   "execution_count": null,
   "metadata": {},
   "outputs": [],
   "source": []
  },
  {
   "cell_type": "markdown",
   "metadata": {},
   "source": [
    "# Ejercicio 25\n",
    "### Ingresar dos números, un inicio y un fin, y calcular la suma de todos los números dentro de ese rango, incluyendo ambos."
   ]
  },
  {
   "cell_type": "code",
   "execution_count": null,
   "metadata": {},
   "outputs": [],
   "source": []
  },
  {
   "cell_type": "markdown",
   "metadata": {},
   "source": [
    "# Ejercicio 26\n",
    "### Un número perfecto es un número que es igual a la suma de sus divisores propios, excluyendo el mismo. Escribir un programa que determine si un número ingresado por el usuario es un número perfecto."
   ]
  },
  {
   "cell_type": "code",
   "execution_count": null,
   "metadata": {},
   "outputs": [],
   "source": []
  },
  {
   "cell_type": "markdown",
   "metadata": {},
   "source": [
    "# Ejercicio 27\n",
    "### Escribir un programa que pida números al usuario hasta que ingrese un cero, luego calcular el promedio de todos los números ingresados (excluyendo el cero)."
   ]
  },
  {
   "cell_type": "code",
   "execution_count": null,
   "metadata": {},
   "outputs": [],
   "source": []
  },
  {
   "cell_type": "markdown",
   "metadata": {},
   "source": [
    "# Ejercicio 28\n",
    "### Escribir un programa que genere un número aleatorio entre 1 y 100 y que el usuario lo adivine. El programa debe indicar si el número a adivinar es mayor o menor que el número ingresado por el usuario, y terminar cuando el usuario adivine el número."
   ]
  },
  {
   "cell_type": "code",
   "execution_count": null,
   "metadata": {},
   "outputs": [],
   "source": []
  },
  {
   "cell_type": "markdown",
   "metadata": {},
   "source": [
    "# Ejercicio 29\n",
    "### Pedir al usuario que ingrese un número y calcular la suma de sus dígitos."
   ]
  },
  {
   "cell_type": "code",
   "execution_count": null,
   "metadata": {},
   "outputs": [],
   "source": []
  },
  {
   "cell_type": "markdown",
   "metadata": {},
   "source": [
    "# Ejercicio 30\n",
    "### Solicitar un número de minutos y convertirlo a horas y minutos."
   ]
  },
  {
   "cell_type": "code",
   "execution_count": null,
   "metadata": {},
   "outputs": [],
   "source": []
  }
 ],
 "metadata": {
  "kernelspec": {
   "display_name": "Python 3",
   "language": "python",
   "name": "python3"
  },
  "language_info": {
   "codemirror_mode": {
    "name": "ipython",
    "version": 3
   },
   "file_extension": ".py",
   "mimetype": "text/x-python",
   "name": "python",
   "nbconvert_exporter": "python",
   "pygments_lexer": "ipython3",
   "version": "3.12.4"
  }
 },
 "nbformat": 4,
 "nbformat_minor": 2
}
